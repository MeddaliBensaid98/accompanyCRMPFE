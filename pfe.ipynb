{
 "cells": [
  {
   "cell_type": "code",
   "execution_count": null,
   "id": "1818ad00",
   "metadata": {},
   "outputs": [],
   "source": [
    "import numpy as np\n",
    "import pandas as pd\n",
    "import matplotlib.pyplot as plt\n",
    "import plotly.offline as pyo\n",
    "import plotly.graph_objs as go\n",
    "import dash\n",
    "from dash import dcc, html\n",
    "import dash_html_components as html\n",
    "import seaborn as sns\n",
    "from sklearn.cluster import KMeans\n",
    "from scipy.cluster.hierarchy import dendrogram, linkage,fcluster\n",
    "from sklearn.neighbors import KNeighborsClassifier\n",
    "from sklearn.metrics import confusion_matrix, classification_report\n",
    "from sklearn.tree import DecisionTreeClassifier\n",
    "from sklearn.ensemble import RandomForestClassifier\n",
    "from sklearn.model_selection import train_test_split\n",
    "from sklearn.impute import SimpleImputer\n",
    "from sklearn.compose import ColumnTransformer\n",
    "from sklearn.preprocessing import MinMaxScaler, StandardScaler, RobustScaler, OneHotEncoder\n",
    "from sklearn.pipeline import Pipeline\n",
    "from sklearn.metrics import roc_curve, auc, adjusted_rand_score\n",
    "from sklearn.decomposition import PCA, TruncatedSVD\n",
    "from sklearn import svm\n",
    "from scipy.stats import pearsonr, spearmanr\n",
    "import warnings\n",
    "import seaborn as sns\n",
    "warnings.simplefilter(action='ignore', category=FutureWarning)\n",
    "%matplotlib inline"
   ]
  },
  {
   "cell_type": "code",
   "execution_count": 3,
   "id": "9171fa02",
   "metadata": {},
   "outputs": [],
   "source": [
    "data = pd.read_excel(\"C:/Users/medal/OneDrive/Bureau/pilotage commercial.xlsx\")"
   ]
  },
  {
   "cell_type": "code",
   "execution_count": 5,
   "id": "3ad72eba",
   "metadata": {},
   "outputs": [
    {
     "data": {
      "text/plain": [
       "(300, 23)"
      ]
     },
     "execution_count": 5,
     "metadata": {},
     "output_type": "execute_result"
    }
   ],
   "source": [
    "data.shape"
   ]
  },
  {
   "cell_type": "code",
   "execution_count": 6,
   "id": "4eb25aa0",
   "metadata": {},
   "outputs": [
    {
     "data": {
      "text/plain": [
       "Index(['Affectation par domaine D'activitée', 'Code', 'Date de création ',\n",
       "       'Nom du client', 'Intitulé du projet', 'Type',\n",
       "       'Affectation par secteur', 'Affectation géographique',\n",
       "       'Résultat de l'opportunité ', 'Date de création de l'offre ',\n",
       "       'Resposable ', 'Manager ', 'Consultant ',\n",
       "       'Groupement / consultant seul ', 'Caution ',\n",
       "       ' délai des remises des offres', 'Type de transmission',\n",
       "       'Statut de l'offre ', 'Résultat de l'offre ', 'Commentaires ',\n",
       "       'Affectation BU', 'Statut', 'Montant'],\n",
       "      dtype='object')"
      ]
     },
     "execution_count": 6,
     "metadata": {},
     "output_type": "execute_result"
    }
   ],
   "source": [
    "data.columns"
   ]
  },
  {
   "cell_type": "code",
   "execution_count": 7,
   "id": "1206f08d",
   "metadata": {},
   "outputs": [
    {
     "data": {
      "text/html": [
       "<div>\n",
       "<style scoped>\n",
       "    .dataframe tbody tr th:only-of-type {\n",
       "        vertical-align: middle;\n",
       "    }\n",
       "\n",
       "    .dataframe tbody tr th {\n",
       "        vertical-align: top;\n",
       "    }\n",
       "\n",
       "    .dataframe thead th {\n",
       "        text-align: right;\n",
       "    }\n",
       "</style>\n",
       "<table border=\"1\" class=\"dataframe\">\n",
       "  <thead>\n",
       "    <tr style=\"text-align: right;\">\n",
       "      <th></th>\n",
       "      <th>Affectation par domaine D'activitée</th>\n",
       "      <th>Code</th>\n",
       "      <th>Date de création</th>\n",
       "      <th>Nom du client</th>\n",
       "      <th>Intitulé du projet</th>\n",
       "      <th>Type</th>\n",
       "      <th>Affectation par secteur</th>\n",
       "      <th>Affectation géographique</th>\n",
       "      <th>Résultat de l'opportunité</th>\n",
       "      <th>Date de création de l'offre</th>\n",
       "      <th>...</th>\n",
       "      <th>Groupement / consultant seul</th>\n",
       "      <th>Caution</th>\n",
       "      <th>délai des remises des offres</th>\n",
       "      <th>Type de transmission</th>\n",
       "      <th>Statut de l'offre</th>\n",
       "      <th>Résultat de l'offre</th>\n",
       "      <th>Commentaires</th>\n",
       "      <th>Affectation BU</th>\n",
       "      <th>Statut</th>\n",
       "      <th>Montant</th>\n",
       "    </tr>\n",
       "  </thead>\n",
       "  <tbody>\n",
       "    <tr>\n",
       "      <th>0</th>\n",
       "      <td>BU.Conseil</td>\n",
       "      <td>01/2024</td>\n",
       "      <td>2024-01-16</td>\n",
       "      <td>WIFAK BANQUE</td>\n",
       "      <td>Mission d'assistance à la refonte du SI</td>\n",
       "      <td>Consultation</td>\n",
       "      <td>Banques</td>\n",
       "      <td>Tunisie</td>\n",
       "      <td>Offre</td>\n",
       "      <td>NaT</td>\n",
       "      <td>...</td>\n",
       "      <td>ACC</td>\n",
       "      <td>3000 TND</td>\n",
       "      <td>2024-02-16</td>\n",
       "      <td>Dépôt physique</td>\n",
       "      <td>Offre envoyée</td>\n",
       "      <td>En attente</td>\n",
       "      <td>-</td>\n",
       "      <td>AC</td>\n",
       "      <td>NaN</td>\n",
       "      <td>NaN</td>\n",
       "    </tr>\n",
       "    <tr>\n",
       "      <th>1</th>\n",
       "      <td>BU.Intégration</td>\n",
       "      <td>02/2024</td>\n",
       "      <td>2024-01-31</td>\n",
       "      <td>MEF/PAFEEM</td>\n",
       "      <td>Acquisition et implémentation d’un nouveau sys...</td>\n",
       "      <td>AOI</td>\n",
       "      <td>SFS</td>\n",
       "      <td>Mali</td>\n",
       "      <td>Offre</td>\n",
       "      <td>2024-02-29</td>\n",
       "      <td>...</td>\n",
       "      <td>ACC + SADIATOU</td>\n",
       "      <td>6313,58 TND</td>\n",
       "      <td>2024-02-15</td>\n",
       "      <td>Dépôt physique</td>\n",
       "      <td>Offre envoyée</td>\n",
       "      <td>En attente</td>\n",
       "      <td>-</td>\n",
       "      <td>AC</td>\n",
       "      <td>NaN</td>\n",
       "      <td>NaN</td>\n",
       "    </tr>\n",
       "    <tr>\n",
       "      <th>2</th>\n",
       "      <td>BU.Conseil</td>\n",
       "      <td>03/2024</td>\n",
       "      <td>2024-01-24</td>\n",
       "      <td>STB</td>\n",
       "      <td>choix des missions d’études, de pilotage et s...</td>\n",
       "      <td>Consultation</td>\n",
       "      <td>Banques</td>\n",
       "      <td>Tunisie</td>\n",
       "      <td>O.abandonnée</td>\n",
       "      <td>NaT</td>\n",
       "      <td>...</td>\n",
       "      <td>NaN</td>\n",
       "      <td>NaN</td>\n",
       "      <td>NaT</td>\n",
       "      <td>NaN</td>\n",
       "      <td>NaN</td>\n",
       "      <td>NaN</td>\n",
       "      <td>NaN</td>\n",
       "      <td>AC</td>\n",
       "      <td>NaN</td>\n",
       "      <td>NaN</td>\n",
       "    </tr>\n",
       "    <tr>\n",
       "      <th>3</th>\n",
       "      <td>BU.Conseil</td>\n",
       "      <td>04/2024</td>\n",
       "      <td>2024-01-25</td>\n",
       "      <td>CDC MAURITANIE</td>\n",
       "      <td>« Etude d’appui au développement d’un projet d...</td>\n",
       "      <td>AOI</td>\n",
       "      <td>Autre</td>\n",
       "      <td>Mauritanie</td>\n",
       "      <td>Offre</td>\n",
       "      <td>NaT</td>\n",
       "      <td>...</td>\n",
       "      <td>ACC + GB2A</td>\n",
       "      <td>NaN</td>\n",
       "      <td>2024-01-31</td>\n",
       "      <td>NaN</td>\n",
       "      <td>Offre envoyée</td>\n",
       "      <td>Gagnée</td>\n",
       "      <td>dossier adinistratif a été envoyé à notre part...</td>\n",
       "      <td>AC</td>\n",
       "      <td>NaN</td>\n",
       "      <td>NaN</td>\n",
       "    </tr>\n",
       "    <tr>\n",
       "      <th>4</th>\n",
       "      <td>BU.Conseil</td>\n",
       "      <td>05/2024</td>\n",
       "      <td>2024-01-01</td>\n",
       "      <td>MEF/PAFEEM</td>\n",
       "      <td>Etude diagnostic des SFD pour les aider à amél...</td>\n",
       "      <td>DP</td>\n",
       "      <td>SFS</td>\n",
       "      <td>Mali</td>\n",
       "      <td>Offre</td>\n",
       "      <td>2024-01-02</td>\n",
       "      <td>...</td>\n",
       "      <td>ACC+ SADIATOU</td>\n",
       "      <td>NaN</td>\n",
       "      <td>2024-01-30</td>\n",
       "      <td>Dépôt physique</td>\n",
       "      <td>Offre envoyée</td>\n",
       "      <td>En attente</td>\n",
       "      <td>NaN</td>\n",
       "      <td>AC</td>\n",
       "      <td>NaN</td>\n",
       "      <td>NaN</td>\n",
       "    </tr>\n",
       "  </tbody>\n",
       "</table>\n",
       "<p>5 rows × 23 columns</p>\n",
       "</div>"
      ],
      "text/plain": [
       "  Affectation par domaine D'activitée      Code Date de création   \\\n",
       "0                          BU.Conseil  01/2024         2024-01-16   \n",
       "1                      BU.Intégration  02/2024         2024-01-31   \n",
       "2                          BU.Conseil  03/2024         2024-01-24   \n",
       "3                          BU.Conseil  04/2024         2024-01-25   \n",
       "4                          BU.Conseil  05/2024         2024-01-01   \n",
       "\n",
       "    Nom du client                                 Intitulé du projet  \\\n",
       "0    WIFAK BANQUE           Mission d'assistance à la refonte du SI    \n",
       "1      MEF/PAFEEM  Acquisition et implémentation d’un nouveau sys...   \n",
       "2            STB    choix des missions d’études, de pilotage et s...   \n",
       "3  CDC MAURITANIE  « Etude d’appui au développement d’un projet d...   \n",
       "4      MEF/PAFEEM  Etude diagnostic des SFD pour les aider à amél...   \n",
       "\n",
       "            Type Affectation par secteur Affectation géographique  \\\n",
       "0  Consultation                 Banques                  Tunisie    \n",
       "1            AOI                    SFS                     Mali    \n",
       "2  Consultation                 Banques                  Tunisie    \n",
       "3            AOI                   Autre              Mauritanie    \n",
       "4             DP                    SFS                     Mali    \n",
       "\n",
       "  Résultat de l'opportunité  Date de création de l'offre   ...  \\\n",
       "0                     Offre                           NaT  ...   \n",
       "1                     Offre                    2024-02-29  ...   \n",
       "2               O.abandonnée                          NaT  ...   \n",
       "3                     Offre                           NaT  ...   \n",
       "4                     Offre                    2024-01-02  ...   \n",
       "\n",
       "  Groupement / consultant seul      Caution   délai des remises des offres  \\\n",
       "0                           ACC     3000 TND                    2024-02-16   \n",
       "1               ACC + SADIATOU   6313,58 TND                    2024-02-15   \n",
       "2                           NaN          NaN                           NaT   \n",
       "3                    ACC + GB2A          NaN                    2024-01-31   \n",
       "4                 ACC+ SADIATOU          NaN                    2024-01-30   \n",
       "\n",
       "  Type de transmission Statut de l'offre  Résultat de l'offre   \\\n",
       "0      Dépôt physique       Offre envoyée          En attente    \n",
       "1      Dépôt physique       Offre envoyée          En attente    \n",
       "2                  NaN                NaN                  NaN   \n",
       "3                  NaN      Offre envoyée               Gagnée   \n",
       "4      Dépôt physique       Offre envoyée          En attente    \n",
       "\n",
       "                                       Commentaires  Affectation BU Statut  \\\n",
       "0                                                  -             AC    NaN   \n",
       "1                                                  -             AC    NaN   \n",
       "2                                                NaN             AC    NaN   \n",
       "3  dossier adinistratif a été envoyé à notre part...             AC    NaN   \n",
       "4                                                NaN             AC    NaN   \n",
       "\n",
       "  Montant  \n",
       "0     NaN  \n",
       "1     NaN  \n",
       "2     NaN  \n",
       "3     NaN  \n",
       "4     NaN  \n",
       "\n",
       "[5 rows x 23 columns]"
      ]
     },
     "execution_count": 7,
     "metadata": {},
     "output_type": "execute_result"
    }
   ],
   "source": [
    "data.head()"
   ]
  },
  {
   "cell_type": "code",
   "execution_count": 8,
   "id": "647c9001",
   "metadata": {},
   "outputs": [
    {
     "data": {
      "text/html": [
       "<div>\n",
       "<style scoped>\n",
       "    .dataframe tbody tr th:only-of-type {\n",
       "        vertical-align: middle;\n",
       "    }\n",
       "\n",
       "    .dataframe tbody tr th {\n",
       "        vertical-align: top;\n",
       "    }\n",
       "\n",
       "    .dataframe thead th {\n",
       "        text-align: right;\n",
       "    }\n",
       "</style>\n",
       "<table border=\"1\" class=\"dataframe\">\n",
       "  <thead>\n",
       "    <tr style=\"text-align: right;\">\n",
       "      <th></th>\n",
       "      <th>Affectation par domaine D'activitée</th>\n",
       "      <th>Code</th>\n",
       "      <th>Date de création</th>\n",
       "      <th>Nom du client</th>\n",
       "      <th>Intitulé du projet</th>\n",
       "      <th>Type</th>\n",
       "      <th>Affectation par secteur</th>\n",
       "      <th>Affectation géographique</th>\n",
       "      <th>Résultat de l'opportunité</th>\n",
       "      <th>Date de création de l'offre</th>\n",
       "      <th>...</th>\n",
       "      <th>Groupement / consultant seul</th>\n",
       "      <th>Caution</th>\n",
       "      <th>délai des remises des offres</th>\n",
       "      <th>Type de transmission</th>\n",
       "      <th>Statut de l'offre</th>\n",
       "      <th>Résultat de l'offre</th>\n",
       "      <th>Commentaires</th>\n",
       "      <th>Affectation BU</th>\n",
       "      <th>Statut</th>\n",
       "      <th>Montant</th>\n",
       "    </tr>\n",
       "  </thead>\n",
       "  <tbody>\n",
       "    <tr>\n",
       "      <th>295</th>\n",
       "      <td>Conseil</td>\n",
       "      <td>C-00049</td>\n",
       "      <td>2022-06-24</td>\n",
       "      <td>Ministère de l’Economie et des Finances (MEF)</td>\n",
       "      <td>PROJET DE PROMOTION DE L’ACCÈS AU FINANCEMENT,...</td>\n",
       "      <td>NaN</td>\n",
       "      <td>Autre</td>\n",
       "      <td>Mali</td>\n",
       "      <td>offre</td>\n",
       "      <td>2022-06-24</td>\n",
       "      <td>...</td>\n",
       "      <td>AC+ TNP +QUALISYS</td>\n",
       "      <td>NaN</td>\n",
       "      <td>NaT</td>\n",
       "      <td>NaN</td>\n",
       "      <td>Envoyée</td>\n",
       "      <td>stand by</td>\n",
       "      <td>PAS DE DOSSIER</td>\n",
       "      <td>AC</td>\n",
       "      <td>Envoyée</td>\n",
       "      <td>NaN</td>\n",
       "    </tr>\n",
       "    <tr>\n",
       "      <th>296</th>\n",
       "      <td>Conseil</td>\n",
       "      <td>C-00047</td>\n",
       "      <td>2022-06-22</td>\n",
       "      <td>SATURNE</td>\n",
       "      <td>Politique Commerciale</td>\n",
       "      <td>Consultation</td>\n",
       "      <td>Autre</td>\n",
       "      <td>Tunisie</td>\n",
       "      <td>offre</td>\n",
       "      <td>2022-06-22</td>\n",
       "      <td>...</td>\n",
       "      <td>NaN</td>\n",
       "      <td>NaN</td>\n",
       "      <td>NaT</td>\n",
       "      <td>NaN</td>\n",
       "      <td>Envoyée</td>\n",
       "      <td>Abandonnée</td>\n",
       "      <td>PAS DE DOSSIER</td>\n",
       "      <td>AC</td>\n",
       "      <td>Envoyée</td>\n",
       "      <td>NaN</td>\n",
       "    </tr>\n",
       "    <tr>\n",
       "      <th>297</th>\n",
       "      <td>Conseil</td>\n",
       "      <td>C-00048</td>\n",
       "      <td>2022-06-22</td>\n",
       "      <td>SATURNE</td>\n",
       "      <td>PMO</td>\n",
       "      <td>Consultation</td>\n",
       "      <td>Autre</td>\n",
       "      <td>Tunisie</td>\n",
       "      <td>offre</td>\n",
       "      <td>2022-06-22</td>\n",
       "      <td>...</td>\n",
       "      <td>NaN</td>\n",
       "      <td>NaN</td>\n",
       "      <td>NaT</td>\n",
       "      <td>NaN</td>\n",
       "      <td>Envoyée</td>\n",
       "      <td>Abandonnée</td>\n",
       "      <td>PAS DE DOSSIER</td>\n",
       "      <td>AC</td>\n",
       "      <td>Envoyée</td>\n",
       "      <td>NaN</td>\n",
       "    </tr>\n",
       "    <tr>\n",
       "      <th>298</th>\n",
       "      <td>Digital</td>\n",
       "      <td>D-00003</td>\n",
       "      <td>NaT</td>\n",
       "      <td>ADVANS</td>\n",
       "      <td>Mise en place d’une solution de digitalisation...</td>\n",
       "      <td>Consultation</td>\n",
       "      <td>SFS</td>\n",
       "      <td>Tunisie</td>\n",
       "      <td>offre</td>\n",
       "      <td>NaT</td>\n",
       "      <td>...</td>\n",
       "      <td>NaN</td>\n",
       "      <td>NaN</td>\n",
       "      <td>NaT</td>\n",
       "      <td>NaN</td>\n",
       "      <td>Piste</td>\n",
       "      <td>Abandonnée</td>\n",
       "      <td>PAS DE DOSSIER</td>\n",
       "      <td>Digitaly</td>\n",
       "      <td>Piste</td>\n",
       "      <td>NaN</td>\n",
       "    </tr>\n",
       "    <tr>\n",
       "      <th>299</th>\n",
       "      <td>Digital</td>\n",
       "      <td>D-00004</td>\n",
       "      <td>NaT</td>\n",
       "      <td>ADVANS</td>\n",
       "      <td>Mise en place de la solution de Recouvrement</td>\n",
       "      <td>Consultation</td>\n",
       "      <td>SFS</td>\n",
       "      <td>Tunisie</td>\n",
       "      <td>offre</td>\n",
       "      <td>NaT</td>\n",
       "      <td>...</td>\n",
       "      <td>NaN</td>\n",
       "      <td>NaN</td>\n",
       "      <td>NaT</td>\n",
       "      <td>NaN</td>\n",
       "      <td>Piste</td>\n",
       "      <td>Abandonnée</td>\n",
       "      <td>PAS DE DOSSIER</td>\n",
       "      <td>Digitaly</td>\n",
       "      <td>Piste</td>\n",
       "      <td>NaN</td>\n",
       "    </tr>\n",
       "  </tbody>\n",
       "</table>\n",
       "<p>5 rows × 23 columns</p>\n",
       "</div>"
      ],
      "text/plain": [
       "    Affectation par domaine D'activitée     Code Date de création   \\\n",
       "295                             Conseil  C-00049        2022-06-24   \n",
       "296                            Conseil   C-00047        2022-06-22   \n",
       "297                            Conseil   C-00048        2022-06-22   \n",
       "298                             Digital  D-00003               NaT   \n",
       "299                             Digital  D-00004               NaT   \n",
       "\n",
       "                                     Nom du client  \\\n",
       "295  Ministère de l’Economie et des Finances (MEF)   \n",
       "296                                       SATURNE    \n",
       "297                                       SATURNE    \n",
       "298                                         ADVANS   \n",
       "299                                         ADVANS   \n",
       "\n",
       "                                    Intitulé du projet          Type  \\\n",
       "295  PROJET DE PROMOTION DE L’ACCÈS AU FINANCEMENT,...           NaN   \n",
       "296                              Politique Commerciale  Consultation   \n",
       "297                                                PMO  Consultation   \n",
       "298  Mise en place d’une solution de digitalisation...  Consultation   \n",
       "299      Mise en place de la solution de Recouvrement   Consultation   \n",
       "\n",
       "    Affectation par secteur Affectation géographique  \\\n",
       "295                   Autre                     Mali   \n",
       "296                   Autre                 Tunisie    \n",
       "297                   Autre                 Tunisie    \n",
       "298                     SFS                 Tunisie    \n",
       "299                     SFS                 Tunisie    \n",
       "\n",
       "    Résultat de l'opportunité  Date de création de l'offre   ...  \\\n",
       "295                      offre                   2022-06-24  ...   \n",
       "296                      offre                   2022-06-22  ...   \n",
       "297                      offre                   2022-06-22  ...   \n",
       "298                      offre                          NaT  ...   \n",
       "299                      offre                          NaT  ...   \n",
       "\n",
       "    Groupement / consultant seul  Caution   délai des remises des offres  \\\n",
       "295             AC+ TNP +QUALISYS      NaN                           NaT   \n",
       "296                           NaN      NaN                           NaT   \n",
       "297                           NaN      NaN                           NaT   \n",
       "298                           NaN      NaN                           NaT   \n",
       "299                           NaN      NaN                           NaT   \n",
       "\n",
       "    Type de transmission Statut de l'offre  Résultat de l'offre   \\\n",
       "295                  NaN            Envoyée             stand by   \n",
       "296                  NaN            Envoyée           Abandonnée   \n",
       "297                  NaN            Envoyée           Abandonnée   \n",
       "298                  NaN              Piste           Abandonnée   \n",
       "299                  NaN              Piste           Abandonnée   \n",
       "\n",
       "       Commentaires  Affectation BU   Statut Montant  \n",
       "295  PAS DE DOSSIER              AC  Envoyée     NaN  \n",
       "296  PAS DE DOSSIER              AC  Envoyée     NaN  \n",
       "297  PAS DE DOSSIER              AC  Envoyée     NaN  \n",
       "298  PAS DE DOSSIER        Digitaly    Piste     NaN  \n",
       "299  PAS DE DOSSIER        Digitaly    Piste     NaN  \n",
       "\n",
       "[5 rows x 23 columns]"
      ]
     },
     "execution_count": 8,
     "metadata": {},
     "output_type": "execute_result"
    }
   ],
   "source": [
    "data.tail() #afficher les dernieres_lignes"
   ]
  },
  {
   "cell_type": "code",
   "execution_count": 9,
   "id": "ecf7a4d9",
   "metadata": {},
   "outputs": [
    {
     "data": {
      "text/plain": [
       "<bound method DataFrame.info of     Affectation par domaine D'activitée      Code Date de création   \\\n",
       "0                            BU.Conseil  01/2024         2024-01-16   \n",
       "1                        BU.Intégration  02/2024         2024-01-31   \n",
       "2                            BU.Conseil  03/2024         2024-01-24   \n",
       "3                            BU.Conseil  04/2024         2024-01-25   \n",
       "4                            BU.Conseil  05/2024         2024-01-01   \n",
       "..                                  ...       ...               ...   \n",
       "295                             Conseil   C-00049        2022-06-24   \n",
       "296                            Conseil    C-00047        2022-06-22   \n",
       "297                            Conseil    C-00048        2022-06-22   \n",
       "298                             Digital   D-00003               NaT   \n",
       "299                             Digital   D-00004               NaT   \n",
       "\n",
       "                                     Nom du client  \\\n",
       "0                                     WIFAK BANQUE   \n",
       "1                                       MEF/PAFEEM   \n",
       "2                                             STB    \n",
       "3                                   CDC MAURITANIE   \n",
       "4                                       MEF/PAFEEM   \n",
       "..                                             ...   \n",
       "295  Ministère de l’Economie et des Finances (MEF)   \n",
       "296                                       SATURNE    \n",
       "297                                       SATURNE    \n",
       "298                                         ADVANS   \n",
       "299                                         ADVANS   \n",
       "\n",
       "                                    Intitulé du projet           Type  \\\n",
       "0             Mission d'assistance à la refonte du SI   Consultation    \n",
       "1    Acquisition et implémentation d’un nouveau sys...            AOI   \n",
       "2     choix des missions d’études, de pilotage et s...  Consultation    \n",
       "3    « Etude d’appui au développement d’un projet d...            AOI   \n",
       "4    Etude diagnostic des SFD pour les aider à amél...             DP   \n",
       "..                                                 ...            ...   \n",
       "295  PROJET DE PROMOTION DE L’ACCÈS AU FINANCEMENT,...            NaN   \n",
       "296                              Politique Commerciale   Consultation   \n",
       "297                                                PMO   Consultation   \n",
       "298  Mise en place d’une solution de digitalisation...   Consultation   \n",
       "299      Mise en place de la solution de Recouvrement    Consultation   \n",
       "\n",
       "    Affectation par secteur Affectation géographique  \\\n",
       "0                  Banques                  Tunisie    \n",
       "1                      SFS                     Mali    \n",
       "2                  Banques                  Tunisie    \n",
       "3                     Autre              Mauritanie    \n",
       "4                      SFS                     Mali    \n",
       "..                      ...                      ...   \n",
       "295                   Autre                     Mali   \n",
       "296                   Autre                 Tunisie    \n",
       "297                   Autre                 Tunisie    \n",
       "298                     SFS                 Tunisie    \n",
       "299                     SFS                 Tunisie    \n",
       "\n",
       "    Résultat de l'opportunité  Date de création de l'offre   ...  \\\n",
       "0                       Offre                           NaT  ...   \n",
       "1                       Offre                    2024-02-29  ...   \n",
       "2                 O.abandonnée                          NaT  ...   \n",
       "3                       Offre                           NaT  ...   \n",
       "4                       Offre                    2024-01-02  ...   \n",
       "..                         ...                          ...  ...   \n",
       "295                      offre                   2022-06-24  ...   \n",
       "296                      offre                   2022-06-22  ...   \n",
       "297                      offre                   2022-06-22  ...   \n",
       "298                      offre                          NaT  ...   \n",
       "299                      offre                          NaT  ...   \n",
       "\n",
       "    Groupement / consultant seul      Caution   délai des remises des offres  \\\n",
       "0                             ACC     3000 TND                    2024-02-16   \n",
       "1                 ACC + SADIATOU   6313,58 TND                    2024-02-15   \n",
       "2                             NaN          NaN                           NaT   \n",
       "3                      ACC + GB2A          NaN                    2024-01-31   \n",
       "4                   ACC+ SADIATOU          NaN                    2024-01-30   \n",
       "..                            ...          ...                           ...   \n",
       "295             AC+ TNP +QUALISYS          NaN                           NaT   \n",
       "296                           NaN          NaN                           NaT   \n",
       "297                           NaN          NaN                           NaT   \n",
       "298                           NaN          NaN                           NaT   \n",
       "299                           NaN          NaN                           NaT   \n",
       "\n",
       "    Type de transmission Statut de l'offre  Résultat de l'offre   \\\n",
       "0        Dépôt physique       Offre envoyée          En attente    \n",
       "1        Dépôt physique       Offre envoyée          En attente    \n",
       "2                    NaN                NaN                  NaN   \n",
       "3                    NaN      Offre envoyée               Gagnée   \n",
       "4        Dépôt physique       Offre envoyée          En attente    \n",
       "..                   ...                ...                  ...   \n",
       "295                  NaN            Envoyée             stand by   \n",
       "296                  NaN            Envoyée           Abandonnée   \n",
       "297                  NaN            Envoyée           Abandonnée   \n",
       "298                  NaN              Piste           Abandonnée   \n",
       "299                  NaN              Piste           Abandonnée   \n",
       "\n",
       "                                         Commentaires  Affectation BU  \\\n",
       "0                                                    -             AC   \n",
       "1                                                    -             AC   \n",
       "2                                                  NaN             AC   \n",
       "3    dossier adinistratif a été envoyé à notre part...             AC   \n",
       "4                                                  NaN             AC   \n",
       "..                                                 ...            ...   \n",
       "295                                    PAS DE DOSSIER              AC   \n",
       "296                                    PAS DE DOSSIER              AC   \n",
       "297                                    PAS DE DOSSIER              AC   \n",
       "298                                    PAS DE DOSSIER        Digitaly   \n",
       "299                                    PAS DE DOSSIER        Digitaly   \n",
       "\n",
       "      Statut Montant  \n",
       "0        NaN     NaN  \n",
       "1        NaN     NaN  \n",
       "2        NaN     NaN  \n",
       "3        NaN     NaN  \n",
       "4        NaN     NaN  \n",
       "..       ...     ...  \n",
       "295  Envoyée     NaN  \n",
       "296  Envoyée     NaN  \n",
       "297  Envoyée     NaN  \n",
       "298    Piste     NaN  \n",
       "299    Piste     NaN  \n",
       "\n",
       "[300 rows x 23 columns]>"
      ]
     },
     "execution_count": 9,
     "metadata": {},
     "output_type": "execute_result"
    }
   ],
   "source": [
    "data.info"
   ]
  },
  {
   "cell_type": "code",
   "execution_count": 10,
   "id": "61f77274",
   "metadata": {
    "scrolled": true
   },
   "outputs": [
    {
     "data": {
      "text/html": [
       "<div>\n",
       "<style scoped>\n",
       "    .dataframe tbody tr th:only-of-type {\n",
       "        vertical-align: middle;\n",
       "    }\n",
       "\n",
       "    .dataframe tbody tr th {\n",
       "        vertical-align: top;\n",
       "    }\n",
       "\n",
       "    .dataframe thead th {\n",
       "        text-align: right;\n",
       "    }\n",
       "</style>\n",
       "<table border=\"1\" class=\"dataframe\">\n",
       "  <thead>\n",
       "    <tr style=\"text-align: right;\">\n",
       "      <th></th>\n",
       "      <th>Montant</th>\n",
       "    </tr>\n",
       "  </thead>\n",
       "  <tbody>\n",
       "    <tr>\n",
       "      <th>count</th>\n",
       "      <td>0.0</td>\n",
       "    </tr>\n",
       "    <tr>\n",
       "      <th>mean</th>\n",
       "      <td>NaN</td>\n",
       "    </tr>\n",
       "    <tr>\n",
       "      <th>std</th>\n",
       "      <td>NaN</td>\n",
       "    </tr>\n",
       "    <tr>\n",
       "      <th>min</th>\n",
       "      <td>NaN</td>\n",
       "    </tr>\n",
       "    <tr>\n",
       "      <th>25%</th>\n",
       "      <td>NaN</td>\n",
       "    </tr>\n",
       "    <tr>\n",
       "      <th>50%</th>\n",
       "      <td>NaN</td>\n",
       "    </tr>\n",
       "    <tr>\n",
       "      <th>75%</th>\n",
       "      <td>NaN</td>\n",
       "    </tr>\n",
       "    <tr>\n",
       "      <th>max</th>\n",
       "      <td>NaN</td>\n",
       "    </tr>\n",
       "  </tbody>\n",
       "</table>\n",
       "</div>"
      ],
      "text/plain": [
       "       Montant\n",
       "count      0.0\n",
       "mean       NaN\n",
       "std        NaN\n",
       "min        NaN\n",
       "25%        NaN\n",
       "50%        NaN\n",
       "75%        NaN\n",
       "max        NaN"
      ]
     },
     "execution_count": 10,
     "metadata": {},
     "output_type": "execute_result"
    }
   ],
   "source": [
    "data.describe() #compte des éléments non nuls, la moyenne, l'écart type, les valeurs minimales et maximales, ainsi que les quartiles.\n"
   ]
  },
  {
   "cell_type": "code",
   "execution_count": 11,
   "id": "0090aae8",
   "metadata": {},
   "outputs": [
    {
     "data": {
      "text/html": [
       "<div>\n",
       "<style scoped>\n",
       "    .dataframe tbody tr th:only-of-type {\n",
       "        vertical-align: middle;\n",
       "    }\n",
       "\n",
       "    .dataframe tbody tr th {\n",
       "        vertical-align: top;\n",
       "    }\n",
       "\n",
       "    .dataframe thead th {\n",
       "        text-align: right;\n",
       "    }\n",
       "</style>\n",
       "<table border=\"1\" class=\"dataframe\">\n",
       "  <thead>\n",
       "    <tr style=\"text-align: right;\">\n",
       "      <th></th>\n",
       "      <th>Affectation par domaine D'activitée</th>\n",
       "      <th>Code</th>\n",
       "      <th>Nom du client</th>\n",
       "      <th>Intitulé du projet</th>\n",
       "      <th>Type</th>\n",
       "      <th>Affectation par secteur</th>\n",
       "      <th>Affectation géographique</th>\n",
       "      <th>Résultat de l'opportunité</th>\n",
       "      <th>Resposable</th>\n",
       "      <th>Manager</th>\n",
       "      <th>Consultant</th>\n",
       "      <th>Groupement / consultant seul</th>\n",
       "      <th>Caution</th>\n",
       "      <th>Type de transmission</th>\n",
       "      <th>Statut de l'offre</th>\n",
       "      <th>Résultat de l'offre</th>\n",
       "      <th>Commentaires</th>\n",
       "      <th>Affectation BU</th>\n",
       "      <th>Statut</th>\n",
       "    </tr>\n",
       "  </thead>\n",
       "  <tbody>\n",
       "    <tr>\n",
       "      <th>count</th>\n",
       "      <td>300</td>\n",
       "      <td>291</td>\n",
       "      <td>300</td>\n",
       "      <td>300</td>\n",
       "      <td>284</td>\n",
       "      <td>294</td>\n",
       "      <td>282</td>\n",
       "      <td>300</td>\n",
       "      <td>297</td>\n",
       "      <td>84</td>\n",
       "      <td>104</td>\n",
       "      <td>79</td>\n",
       "      <td>19</td>\n",
       "      <td>29</td>\n",
       "      <td>295</td>\n",
       "      <td>290</td>\n",
       "      <td>157</td>\n",
       "      <td>225</td>\n",
       "      <td>273</td>\n",
       "    </tr>\n",
       "    <tr>\n",
       "      <th>unique</th>\n",
       "      <td>19</td>\n",
       "      <td>277</td>\n",
       "      <td>207</td>\n",
       "      <td>291</td>\n",
       "      <td>62</td>\n",
       "      <td>16</td>\n",
       "      <td>69</td>\n",
       "      <td>6</td>\n",
       "      <td>9</td>\n",
       "      <td>34</td>\n",
       "      <td>62</td>\n",
       "      <td>48</td>\n",
       "      <td>18</td>\n",
       "      <td>18</td>\n",
       "      <td>13</td>\n",
       "      <td>10</td>\n",
       "      <td>64</td>\n",
       "      <td>4</td>\n",
       "      <td>11</td>\n",
       "    </tr>\n",
       "    <tr>\n",
       "      <th>top</th>\n",
       "      <td>Intégration</td>\n",
       "      <td>I-00091</td>\n",
       "      <td>BTS BANK</td>\n",
       "      <td>choix des missions d’études, de pilotage et s...</td>\n",
       "      <td>AO</td>\n",
       "      <td>Banque</td>\n",
       "      <td>Tunisie</td>\n",
       "      <td>offre</td>\n",
       "      <td>MMO</td>\n",
       "      <td>Malek rekik</td>\n",
       "      <td>Majdi Ben HASSEN</td>\n",
       "      <td>TNP</td>\n",
       "      <td>1000 TND</td>\n",
       "      <td>Dépôt physique</td>\n",
       "      <td>Envoyée</td>\n",
       "      <td>Abandonnée</td>\n",
       "      <td>En cours de décison</td>\n",
       "      <td>AC</td>\n",
       "      <td>Envoyée</td>\n",
       "    </tr>\n",
       "    <tr>\n",
       "      <th>freq</th>\n",
       "      <td>78</td>\n",
       "      <td>3</td>\n",
       "      <td>14</td>\n",
       "      <td>2</td>\n",
       "      <td>105</td>\n",
       "      <td>142</td>\n",
       "      <td>109</td>\n",
       "      <td>264</td>\n",
       "      <td>98</td>\n",
       "      <td>15</td>\n",
       "      <td>10</td>\n",
       "      <td>9</td>\n",
       "      <td>2</td>\n",
       "      <td>12</td>\n",
       "      <td>148</td>\n",
       "      <td>71</td>\n",
       "      <td>54</td>\n",
       "      <td>196</td>\n",
       "      <td>148</td>\n",
       "    </tr>\n",
       "  </tbody>\n",
       "</table>\n",
       "</div>"
      ],
      "text/plain": [
       "       Affectation par domaine D'activitée     Code Nom du client  \\\n",
       "count                                  300      291           300   \n",
       "unique                                  19      277           207   \n",
       "top                           Intégration   I-00091     BTS BANK    \n",
       "freq                                    78        3            14   \n",
       "\n",
       "                                       Intitulé du projet Type  \\\n",
       "count                                                 300  284   \n",
       "unique                                                291   62   \n",
       "top      choix des missions d’études, de pilotage et s...   AO   \n",
       "freq                                                    2  105   \n",
       "\n",
       "       Affectation par secteur Affectation géographique  \\\n",
       "count                      294                      282   \n",
       "unique                      16                       69   \n",
       "top                     Banque                 Tunisie    \n",
       "freq                       142                      109   \n",
       "\n",
       "       Résultat de l'opportunité  Resposable      Manager         Consultant   \\\n",
       "count                         300         297           84                104   \n",
       "unique                          6           9           34                 62   \n",
       "top                         offre         MMO  Malek rekik  Majdi Ben HASSEN    \n",
       "freq                          264          98           15                 10   \n",
       "\n",
       "       Groupement / consultant seul   Caution  Type de transmission  \\\n",
       "count                             79        19                   29   \n",
       "unique                            48        18                   18   \n",
       "top                              TNP  1000 TND      Dépôt physique    \n",
       "freq                               9         2                   12   \n",
       "\n",
       "       Statut de l'offre  Résultat de l'offre          Commentaires   \\\n",
       "count                 295                  290                   157   \n",
       "unique                 13                   10                    64   \n",
       "top               Envoyée           Abandonnée  En cours de décison    \n",
       "freq                  148                   71                    54   \n",
       "\n",
       "       Affectation BU   Statut  \n",
       "count             225      273  \n",
       "unique              4       11  \n",
       "top                AC  Envoyée  \n",
       "freq              196      148  "
      ]
     },
     "execution_count": 11,
     "metadata": {},
     "output_type": "execute_result"
    }
   ],
   "source": [
    "data.describe(include=['object'])"
   ]
  },
  {
   "cell_type": "code",
   "execution_count": 12,
   "id": "fe60b535",
   "metadata": {},
   "outputs": [
    {
     "name": "stdout",
     "output_type": "stream",
     "text": [
      "Missing values:\n",
      " Affectation par domaine D'activitée      0\n",
      "Code                                     9\n",
      "Date de création                         5\n",
      "Nom du client                            0\n",
      "Intitulé du projet                       0\n",
      "Type                                    16\n",
      "Affectation par secteur                  6\n",
      "Affectation géographique                18\n",
      "Résultat de l'opportunité                0\n",
      "Date de création de l'offre             17\n",
      "Resposable                               3\n",
      "Manager                                216\n",
      "Consultant                             196\n",
      "Groupement / consultant seul           221\n",
      "Caution                                281\n",
      " délai des remises des offres           18\n",
      "Type de transmission                   271\n",
      "Statut de l'offre                        5\n",
      "Résultat de l'offre                     10\n",
      "Commentaires                           143\n",
      "Affectation BU                          75\n",
      "Statut                                  27\n",
      "Montant                                300\n",
      "dtype: int64\n"
     ]
    }
   ],
   "source": [
    "\n",
    "# Check for missing values\n",
    "print(\"Missing values:\\n\", data.isnull().sum())"
   ]
  },
  {
   "cell_type": "code",
   "execution_count": 13,
   "id": "e406149b",
   "metadata": {},
   "outputs": [
    {
     "name": "stdout",
     "output_type": "stream",
     "text": [
      "Column names and data types:\n",
      " Affectation par domaine D'activitée            object\n",
      "Code                                           object\n",
      "Date de création                       datetime64[ns]\n",
      "Nom du client                                  object\n",
      "Intitulé du projet                             object\n",
      "Type                                           object\n",
      "Affectation par secteur                        object\n",
      "Affectation géographique                       object\n",
      "Résultat de l'opportunité                      object\n",
      "Date de création de l'offre            datetime64[ns]\n",
      "Resposable                                     object\n",
      "Manager                                        object\n",
      "Consultant                                     object\n",
      "Groupement / consultant seul                   object\n",
      "Caution                                        object\n",
      " délai des remises des offres          datetime64[ns]\n",
      "Type de transmission                           object\n",
      "Statut de l'offre                              object\n",
      "Résultat de l'offre                            object\n",
      "Commentaires                                   object\n",
      "Affectation BU                                 object\n",
      "Statut                                         object\n",
      "Montant                                       float64\n",
      "dtype: object\n"
     ]
    }
   ],
   "source": [
    "print(\"Column names and data types:\\n\", data.dtypes)"
   ]
  },
  {
   "cell_type": "code",
   "execution_count": 14,
   "id": "9c7f1adb",
   "metadata": {},
   "outputs": [
    {
     "name": "stdout",
     "output_type": "stream",
     "text": [
      "Int64Index([  0,   1,   2,   3,   4,   5,   6,   7,   8,   9,\n",
      "            ...\n",
      "            290, 291, 292, 293, 294, 295, 296, 297, 298, 299],\n",
      "           dtype='int64', length=300)\n"
     ]
    }
   ],
   "source": [
    "rows_with_null = data.isnull().sum(axis=1)\n",
    "\n",
    "# Maintenant, 'rows_with_null' est une série indiquant le nombre de valeurs nulles dans chaque ligne\n",
    "# Vous pouvez l'utiliser pour filtrer les lignes ayant des valeurs nulles\n",
    "rows_with_null = rows_with_null[rows_with_null > 0]\n",
    "\n",
    "# Affichez les indices des lignes ayant des valeurs nulles\n",
    "print(rows_with_null.index)"
   ]
  },
  {
   "cell_type": "code",
   "execution_count": 15,
   "id": "48f0929b",
   "metadata": {},
   "outputs": [
    {
     "name": "stdout",
     "output_type": "stream",
     "text": [
      "    Affectation par domaine D'activitée    Code Date de création   \\\n",
      "259                        Intégration   I-8128        2023-04-14   \n",
      "264                        Intégration   I-6564        2023-05-04   \n",
      "\n",
      "                                         Nom du client  \\\n",
      "259       Caisse de dépôt et de consignation du BENIN    \n",
      "264  BCRG (Banque Centrale de la République de Guin...   \n",
      "\n",
      "                                    Intitulé du projet Type  \\\n",
      "259  Mise en œuvre d'un progiciel de gestion integr...  EOI   \n",
      "264  Développement et mise en place de l’interface ...   AO   \n",
      "\n",
      "    Affectation par secteur Affectation géographique  \\\n",
      "259                  Banque                    BENIN   \n",
      "264                  Banque                  Guinée    \n",
      "\n",
      "    Résultat de l'opportunité  Date de création de l'offre   ...  \\\n",
      "259                      offre                   2023-04-14  ...   \n",
      "264                      offre                   2023-05-04  ...   \n",
      "\n",
      "        Groupement / consultant seul  Caution   délai des remises des offres  \\\n",
      "259  Temenos+ Tech solution + Natray       NaN                    2023-05-02   \n",
      "264                               NaN      NaN                    2023-05-04   \n",
      "\n",
      "    Type de transmission Statut de l'offre  Résultat de l'offre   \\\n",
      "259                  NaN            Envoyée             A suivre   \n",
      "264                  NaN            Envoyée               Gagnée   \n",
      "\n",
      "                                         Commentaires  Affectation BU  \\\n",
      "259                                                NaN             AC   \n",
      "264  10/01/2023 dossier envoyée ( Première partie )...             AC   \n",
      "\n",
      "      Statut Montant  \n",
      "259  Envoyée     NaN  \n",
      "264  Envoyée     NaN  \n",
      "\n",
      "[2 rows x 23 columns]\n"
     ]
    }
   ],
   "source": [
    "def generate_code(row):\n",
    "    if pd.isnull(row['Affectation par domaine D\\'activitée']):\n",
    "        return np.nan\n",
    "    else:\n",
    "        first_letter = row['Affectation par domaine D\\'activitée'][0]\n",
    "        random_number = str(np.random.randint(1000, 10000))\n",
    "        code = first_letter.upper() + '-' + random_number\n",
    "        # Check if the generated code already exists in the DataFrame\n",
    "        if code in data['Code'].values:\n",
    "            # If it exists, append a unique identifier until it becomes unique\n",
    "            unique_id = 1\n",
    "            while code + '_' + str(unique_id) in data['Code'].values:\n",
    "                unique_id += 1\n",
    "            code += '_' + str(unique_id)\n",
    "        return code\n",
    "\n",
    "# Apply the generate_code function to the 'Code' column\n",
    "data['Code'] = data.apply(generate_code, axis=1)\n",
    "\n",
    "# Check for duplicates again\n",
    "duplicate_codes = data['Code'].duplicated()\n",
    "print(data[duplicate_codes])"
   ]
  },
  {
   "cell_type": "code",
   "execution_count": 16,
   "id": "aa33322f",
   "metadata": {},
   "outputs": [
    {
     "name": "stdout",
     "output_type": "stream",
     "text": [
      "0\n"
     ]
    }
   ],
   "source": [
    "print(data['Code'].isnull().sum())"
   ]
  },
  {
   "cell_type": "code",
   "execution_count": 17,
   "id": "c613416c",
   "metadata": {},
   "outputs": [
    {
     "name": "stdout",
     "output_type": "stream",
     "text": [
      "Affectation par domaine D'activitée                         Conseil \n",
      "Code                                                          C-8516\n",
      "Date de création                                 2024-01-16 00:00:00\n",
      "Nom du client                                               BforBank\n",
      "Intitulé du projet                     Lot 3 : Homologation Transact\n",
      "Type                                                              AO\n",
      "Affectation par secteur                                       Banque\n",
      "Affectation géographique                                     France \n",
      "Résultat de l'opportunité                                      Offre\n",
      "Date de création de l'offre                      2024-01-16 00:00:00\n",
      "Resposable                                                       MMO\n",
      "Manager                                                          NaN\n",
      "Consultant                                             Moez OUSLATI \n",
      "Groupement / consultant seul                                     NaN\n",
      "Caution                                                          NaN\n",
      " délai des remises des offres                    2024-01-25 00:00:00\n",
      "Type de transmission                                             NaN\n",
      "Statut de l'offre                                            envoyée\n",
      "Résultat de l'offre                                        A suivre \n",
      "Commentaires                                           PAS DE DOSSER\n",
      "Affectation BU                                                   NaN\n",
      "Statut                                                       envoyée\n",
      "Montant                                                          NaN\n",
      "Name: 29, dtype: object\n"
     ]
    }
   ],
   "source": [
    "print(data.iloc[29])"
   ]
  },
  {
   "cell_type": "code",
   "execution_count": 18,
   "id": "77514384",
   "metadata": {},
   "outputs": [
    {
     "name": "stdout",
     "output_type": "stream",
     "text": [
      "5\n"
     ]
    }
   ],
   "source": [
    "print(data['Date de création '].isnull().sum())"
   ]
  },
  {
   "cell_type": "code",
   "execution_count": 19,
   "id": "6c5b489d",
   "metadata": {},
   "outputs": [],
   "source": [
    "data['Date de création '].fillna(pd.NaT, inplace=True)"
   ]
  },
  {
   "cell_type": "code",
   "execution_count": 20,
   "id": "3845ed32",
   "metadata": {},
   "outputs": [
    {
     "name": "stdout",
     "output_type": "stream",
     "text": [
      "5\n"
     ]
    }
   ],
   "source": [
    "print(data['Date de création '].isnull().sum())"
   ]
  },
  {
   "cell_type": "code",
   "execution_count": 21,
   "id": "4c716b05",
   "metadata": {},
   "outputs": [
    {
     "name": "stdout",
     "output_type": "stream",
     "text": [
      "    Affectation par domaine D'activitée    Code Date de création   \\\n",
      "12                       BU.Intégration  B-8647               NaT   \n",
      "166                             conseil  C-1752               NaT   \n",
      "187                            Digitaly  D-9340               NaT   \n",
      "298                             Digital  D-2466               NaT   \n",
      "299                             Digital  D-7000               NaT   \n",
      "\n",
      "                        Nom du client  \\\n",
      "12                              BIAT    \n",
      "166  République Démocratique du Congo   \n",
      "187                         BTS BANK    \n",
      "298                            ADVANS   \n",
      "299                            ADVANS   \n",
      "\n",
      "                                    Intitulé du projet  \\\n",
      "12   L'acquisition et la mise en place d'une platef...   \n",
      "166  Projet d'acquisition de Software Core-banking ...   \n",
      "187  Mise en  place d'une solution informatique per...   \n",
      "298  Mise en place d’une solution de digitalisation...   \n",
      "299      Mise en place de la solution de Recouvrement    \n",
      "\n",
      "                         Type Affectation par secteur  \\\n",
      "12                        AON                Banques    \n",
      "166                        AO                   Autre   \n",
      "187  Appel d’offres N°11/2022                  Banque   \n",
      "298              Consultation                     SFS   \n",
      "299              Consultation                     SFS   \n",
      "\n",
      "    Affectation géographique Résultat de l'opportunité   \\\n",
      "12                  Tunisie                      Offre    \n",
      "166                    Congo                      offre   \n",
      "187                 Tunisie                       offre   \n",
      "298                 Tunisie                       offre   \n",
      "299                 Tunisie                       offre   \n",
      "\n",
      "    Date de création de l'offre   ... Groupement / consultant seul  Caution   \\\n",
      "12                           NaT  ...      ACC + SOLACE CORPORATION      NaN   \n",
      "166                          NaT  ...                      Temenos       NaN   \n",
      "187                          NaT  ...                           NaN      NaN   \n",
      "298                          NaT  ...                           NaN      NaN   \n",
      "299                          NaT  ...                           NaN      NaN   \n",
      "\n",
      "     délai des remises des offres Type de transmission Statut de l'offre   \\\n",
      "12                            NaT                  NaN      Offre envoyée   \n",
      "166                    2022-12-05                  NaN            Envoyée   \n",
      "187                    2022-10-14                  NaN            Envoyée   \n",
      "298                           NaT                  NaN              Piste   \n",
      "299                           NaT                  NaN              Piste   \n",
      "\n",
      "    Résultat de l'offre     Commentaires  Affectation BU   Statut Montant  \n",
      "12           En attente               NaN             AC      NaN     NaN  \n",
      "166             A suivre              NaN             AC  Envoyée     NaN  \n",
      "187           Abandonnée              NaN             AC  Envoyée     NaN  \n",
      "298           Abandonnée  PAS DE DOSSIER        Digitaly    Piste     NaN  \n",
      "299           Abandonnée  PAS DE DOSSIER        Digitaly    Piste     NaN  \n",
      "\n",
      "[5 rows x 23 columns]\n"
     ]
    }
   ],
   "source": [
    "rows_with_null_date = data[data['Date de création '].isnull()]\n",
    "\n",
    "# Print the rows with null date\n",
    "print(rows_with_null_date)"
   ]
  },
  {
   "cell_type": "code",
   "execution_count": 22,
   "id": "1b9b2747",
   "metadata": {},
   "outputs": [
    {
     "name": "stdout",
     "output_type": "stream",
     "text": [
      "0\n"
     ]
    }
   ],
   "source": [
    "print(data['Nom du client'].isnull().sum())"
   ]
  },
  {
   "cell_type": "code",
   "execution_count": 23,
   "id": "19631a9d",
   "metadata": {},
   "outputs": [
    {
     "name": "stdout",
     "output_type": "stream",
     "text": [
      "0\n"
     ]
    }
   ],
   "source": [
    "print(data['Intitulé du projet'].isnull().sum())"
   ]
  },
  {
   "cell_type": "code",
   "execution_count": 24,
   "id": "6da64cc7",
   "metadata": {},
   "outputs": [
    {
     "name": "stdout",
     "output_type": "stream",
     "text": [
      "['Consultation ' 'AOI' 'DP' 'AON' 'AMI' 'consultation ' 'AO'\n",
      " 'Consultation 43/2023' 'DP N° 02/2023MEF -PAFEEM ' 'consultation 32/2023'\n",
      " nan 'AO 04/2023' 'ETI/016/RFP/2023' 'consultation N°25/2023'\n",
      " 'DP No\\xa0: 06/PADSF/2023/BCC/DP' 'AO0l 23/003-PA0SITRA/DG/PRMP/A00I '\n",
      " 'AO 02/2023' 'AO 34/2023' 'AO 83448350' 'C0018 Consultation '\n",
      " 'N° 4/UCA/DAI/2023' 'AO N°111' 'Consultation'\n",
      " \"AVIS D’APPEL D'OFFRES N°10/2023\" '\\nAMI N°02CF/PAMIF/BCM/2022'\n",
      " 'Consultation 06/2023 ' 'AO N 05-2023' 'CONSULTATION 05/2023'\n",
      " 'Consultation n°14/2023' 'DDPNO FAST-TUN-23-0041' 'AOO 44/ABB/2023 '\n",
      " '04/ABB/2023' 'AO 27/ABB/2023' 'AO 07/2023' 'consultation' 'GàG'\n",
      " 'AO 13/2023' 'Rallonge' 'l’AO-077/22. ' 'AMI001-2022-SDSI-BOAD' 'AO '\n",
      " 'Consultation 01/2023' 'CONSULTATION' 'CONSULTATION ' 'offre'\n",
      " 'N° 83423378  ' 'CONSULTATION n°08/22' 'AO   N°08-2022' 'AO N°02/2023'\n",
      " 'consultation N° 001/22' 'Appel d’offres N°11/2022' 'AO  N°2022/12'\n",
      " 'AO N 01/2023' 'EOI' 'consultation REF,CR'\n",
      " 'AO                                                                 N°09-2022']\n"
     ]
    }
   ],
   "source": [
    "# Assuming 'data' is your DataFrame and 'Type' is the column containing the values\n",
    "# Standardize values in the column to start with \"AMI\"\n",
    "data['Type'] = data['Type'].str.replace(r'^(?=.*\\bAMI\\b).*$', 'AMI', regex=True)\n",
    "data['Type'] = data['Type'].str.replace(r'^(?=.*\\bAMI\\b).*$', 'AMI', regex=True)\n",
    "\n",
    "# Print the unique values to verify the transformation\n",
    "print(data['Type'].unique())"
   ]
  },
  {
   "cell_type": "code",
   "execution_count": 25,
   "id": "6df81737",
   "metadata": {},
   "outputs": [
    {
     "name": "stdout",
     "output_type": "stream",
     "text": [
      "['Consultation' 'AOI' 'DP' 'AON' 'AMI' 'AO' 'DP N° 02/2023MEF -PAFEEM '\n",
      " nan 'AO 04/2023' 'ETI/016/RFP/2023' 'DP No\\xa0: 06/PADSF/2023/BCC/DP'\n",
      " 'AO0l 23/003-PA0SITRA/DG/PRMP/A00I ' 'AO 02/2023' 'AO 34/2023'\n",
      " 'AO 83448350' 'C0018 Consultation' 'N° 4/UCA/DAI/2023' 'AO N°111'\n",
      " \"AVIS D’APPEL D'OFFRES N°10/2023\" '\\nAMI N°02CF/PAMIF/BCM/2022'\n",
      " 'AO N 05-2023' 'DDPNO FAST-TUN-23-0041' 'AOO 44/ABB/2023 ' '04/ABB/2023'\n",
      " 'AO 27/ABB/2023' 'AO 07/2023' 'GàG' 'AO 13/2023' 'Rallonge'\n",
      " 'l’AO-077/22. ' 'AMI001-2022-SDSI-BOAD' 'AO ' 'offre' 'N° 83423378  '\n",
      " 'AO   N°08-2022' 'AO N°02/2023' 'Appel d’offres N°11/2022'\n",
      " 'AO  N°2022/12' 'AO N 01/2023' 'EOI'\n",
      " 'AO                                                                 N°09-2022']\n"
     ]
    }
   ],
   "source": [
    "# Assuming 'data' is your DataFrame and 'col_name' is the column containing the values\n",
    "# Standardize values in the column to start with \"Consultation\"\n",
    "data['Type'] = data['Type'].str.replace(r'(?i)\\bconsultation\\b.*', 'Consultation', regex=True)\n",
    "\n",
    "# Print the unique values to verify the transformation\n",
    "print(data['Type'].unique())\n"
   ]
  },
  {
   "cell_type": "code",
   "execution_count": 26,
   "id": "9eac46cd",
   "metadata": {},
   "outputs": [
    {
     "name": "stdout",
     "output_type": "stream",
     "text": [
      "['Consultation' 'AOI' 'DP' 'AON' 'AMI' 'AO' 'DP N° 02/2023MEF -PAFEEM '\n",
      " nan 'AO 04/2023' 'ETI/016/RFP/2023' 'DP No\\xa0: 06/PADSF/2023/BCC/DP'\n",
      " 'AO0l 23/003-PA0SITRA/DG/PRMP/A00I ' 'AO 02/2023' 'AO 34/2023'\n",
      " 'AO 83448350' 'N° 4/UCA/DAI/2023' 'AO N°111'\n",
      " \"AVIS D’APPEL D'OFFRES N°10/2023\" '\\nAMI N°02CF/PAMIF/BCM/2022'\n",
      " 'AO N 05-2023' 'DDPNO FAST-TUN-23-0041' 'AOO 44/ABB/2023 ' '04/ABB/2023'\n",
      " 'AO 27/ABB/2023' 'AO 07/2023' 'GàG' 'AO 13/2023' 'Rallonge'\n",
      " 'l’AO-077/22. ' 'AMI001-2022-SDSI-BOAD' 'AO ' 'offre' 'N° 83423378  '\n",
      " 'AO   N°08-2022' 'AO N°02/2023' 'Appel d’offres N°11/2022'\n",
      " 'AO  N°2022/12' 'AO N 01/2023' 'EOI'\n",
      " 'AO                                                                 N°09-2022']\n"
     ]
    }
   ],
   "source": [
    "# Assuming 'data' is your DataFrame and 'col_name' is the column containing the values\n",
    "# Standardize values in the column to start with \"Consultation\"\n",
    "data['Type'] = data['Type'].str.replace(r'(?i)^(?:C\\d+\\s+)?consultation\\b.*', 'Consultation', regex=True)\n",
    "\n",
    "# Print the unique values to verify the transformation\n",
    "print(data['Type'].unique())"
   ]
  },
  {
   "cell_type": "code",
   "execution_count": 27,
   "id": "73d403af",
   "metadata": {},
   "outputs": [
    {
     "name": "stdout",
     "output_type": "stream",
     "text": [
      "['Consultation' 'AOI' 'DP' 'AON' 'AMI' 'DP N° 02/2023MEF -PAFEEM ' nan\n",
      " 'ETI/016/RFP/2023' 'DP No\\xa0: 06/PADSF/2023/BCC/DP'\n",
      " 'AO0l 23/003-PA0SITRA/DG/PRMP/A00I ' 'N° 4/UCA/DAI/2023'\n",
      " \"AVIS D’APPEL D'OFFRES N°10/2023\" '\\nAMI N°02CF/PAMIF/BCM/2022'\n",
      " 'DDPNO FAST-TUN-23-0041' 'AOO 44/ABB/2023 ' '04/ABB/2023' 'GàG'\n",
      " 'Rallonge' 'l’Consultation' 'AMI001-2022-SDSI-BOAD' 'offre'\n",
      " 'N° 83423378  ' 'Appel d’offres N°11/2022' 'EOI']\n"
     ]
    }
   ],
   "source": [
    "# Assuming 'data' is your DataFrame and 'col_name' is the column containing the values\n",
    "# Standardize values in the column to start with \"Consultation\"\n",
    "data['Type'] = data['Type'].str.replace(r'(?i)\\bAO\\b.*', 'Consultation', regex=True)\n",
    "\n",
    "# Print the unique values to verify the transformation\n",
    "print(data['Type'].unique())"
   ]
  },
  {
   "cell_type": "code",
   "execution_count": 28,
   "id": "7286c0b0",
   "metadata": {},
   "outputs": [
    {
     "name": "stdout",
     "output_type": "stream",
     "text": [
      "['Consultation' 'AOI' 'DP' 'AON' 'AMI' 'DP N° 02/2023MEF -PAFEEM ' nan\n",
      " 'ETI/016/RFP/2023' 'DP No\\xa0: 06/PADSF/2023/BCC/DP'\n",
      " 'AO0l 23/003-PA0SITRA/DG/PRMP/A00I ' 'N° 4/UCA/DAI/2023'\n",
      " \"AVIS D’APPEL D'OFFRES N°10/2023\" '\\nAMI N°02CF/PAMIF/BCM/2022'\n",
      " 'DDPNO FAST-TUN-23-0041' 'AOO 44/ABB/2023 ' '04/ABB/2023' 'GàG'\n",
      " 'Rallonge' 'AMI001-2022-SDSI-BOAD' 'offre' 'N° 83423378  '\n",
      " 'Appel d’offres N°11/2022' 'EOI']\n"
     ]
    }
   ],
   "source": [
    "# Assuming 'data' is your DataFrame and 'col_name' is the column containing the values\n",
    "# Standardize values in the column to start with \"Consultation\"\n",
    "data['Type'] = data['Type'].str.replace(r'(?i)^(?:l’|C\\d+\\s+)?consultation\\b.*', 'Consultation', regex=True)\n",
    "\n",
    "# Print the unique values to verify the transformation\n",
    "print(data['Type'].unique())"
   ]
  },
  {
   "cell_type": "code",
   "execution_count": 29,
   "id": "c70510fc",
   "metadata": {},
   "outputs": [
    {
     "name": "stdout",
     "output_type": "stream",
     "text": [
      "['Consultation' 'AOI' 'DP' 'AON' 'AMI' nan 'AOO ' 'GàG' 'Rallonge' 'offre'\n",
      " 'EOI']\n"
     ]
    }
   ],
   "source": [
    "data['Type'] = data['Type'].str.replace('AMI001-2022-SDSI-BOAD', 'AMI', regex=True)\n",
    "data['Type'] = data['Type'].str.replace('\\nAMI N°02CF/PAMIF/BCM/2022', 'AMI', regex=True)\n",
    "data['Type'] = data['Type'].str.replace('ETI/016/RFP/2023', 'AOI', regex=True)\n",
    "data['Type'] = data['Type'].str.replace('Appel d’offres N°11/2022', 'AON', regex=True)\n",
    "data['Type'] = data['Type'].str.replace('DP No\\xa0: 06/PADSF/2023/BCC/DP', 'DP', regex=True)\n",
    "data['Type'] = data['Type'].str.replace('DP N° 02/2023MEF -PAFEEM ', 'DP', regex=True)\n",
    "data['Type'] = data['Type'].str.replace('DDPNO FAST-TUN-23-0041', 'DP', regex=True)\n",
    "data['Type'] = data['Type'].str.replace('AO0l 23/003-PA0SITRA/DG/PRMP/A00I', 'AOI', regex=True)\n",
    "data['Type'] = data['Type'].str.replace('N° 4/UCA/DAI/2023', 'AON', regex=True)\n",
    "data['Type'] = data['Type'].str.replace('N° 83423378  ', 'AON', regex=True)\n",
    "data['Type'] = data['Type'].str.replace(\"AVIS D’APPEL D'OFFRES N°10/2023\", 'AON', regex=True)\n",
    "data['Type'] = data['Type'].str.replace(\"04/ABB/2023\", 'AOO ', regex=True)\n",
    "data['Type'] = data['Type'].str.replace('AOO 44/ABB/2023 ', 'AOO ', regex=True)\n",
    "data['Type'] = data['Type'].str.replace('AOI ', 'AOI', regex=True)\n",
    "# Print the unique values to verify the transformation\n",
    "print(data['Type'].unique())"
   ]
  },
  {
   "cell_type": "code",
   "execution_count": 30,
   "id": "1d66e4db",
   "metadata": {},
   "outputs": [
    {
     "name": "stdout",
     "output_type": "stream",
     "text": [
      "6\n",
      "['Banques ' 'SFS ' 'Autre' nan 'Assurances ' 'Banque ' 'AUTRE ' 'Banque'\n",
      " 'Autre ' 'SFS' 'AUTRE' 'Assurance' 'Assuarnce ' 'autre ' 'Assurances'\n",
      " 'leasing' 'offre']\n"
     ]
    }
   ],
   "source": [
    "print(data['Affectation par secteur'].isnull().sum())\n",
    "print(data['Affectation par secteur'].unique())"
   ]
  },
  {
   "cell_type": "code",
   "execution_count": 31,
   "id": "acc2aef7",
   "metadata": {},
   "outputs": [],
   "source": [
    "data['Affectation par secteur'] = data['Affectation par secteur'].str.replace(r'^(?=.*\\bAssurances\\b).*$', 'Assurances', regex=True)\n",
    "data['Affectation par secteur'] = data['Affectation par secteur'].str.replace('SFS ', 'SFS', regex=True)\n"
   ]
  },
  {
   "cell_type": "code",
   "execution_count": 32,
   "id": "4242266e",
   "metadata": {},
   "outputs": [
    {
     "name": "stdout",
     "output_type": "stream",
     "text": [
      "['Banques ' 'SFS' 'Autre' nan 'Assurances' 'Banque ' 'AUTRE ' 'Banque'\n",
      " 'Autre ' 'AUTRE' 'Assurance' 'Assuarnce ' 'autre ' 'leasing' 'offre']\n"
     ]
    }
   ],
   "source": [
    "print(data['Affectation par secteur'].unique())"
   ]
  },
  {
   "cell_type": "code",
   "execution_count": 33,
   "id": "51940387",
   "metadata": {},
   "outputs": [],
   "source": [
    "data['Affectation par secteur'] = data['Affectation par secteur'].replace(['Assurance','Assurances ','Assurancess'], 'Assurances', regex=True)"
   ]
  },
  {
   "cell_type": "code",
   "execution_count": 34,
   "id": "cb98c9db",
   "metadata": {},
   "outputs": [
    {
     "name": "stdout",
     "output_type": "stream",
     "text": [
      "['Banques ' 'SFS' 'Autre' nan 'Assurancess' 'Banque ' 'AUTRE ' 'Banque'\n",
      " 'Autre ' 'AUTRE' 'Assurances' 'Assuarnce ' 'autre ' 'leasing' 'offre']\n"
     ]
    }
   ],
   "source": [
    "print(data['Affectation par secteur'].unique())"
   ]
  },
  {
   "cell_type": "code",
   "execution_count": 35,
   "id": "fdf3b99c",
   "metadata": {},
   "outputs": [
    {
     "name": "stdout",
     "output_type": "stream",
     "text": [
      "['Banques ' 'SFS' 'Autre' 'Assurancess' 'Banque ' 'AUTRE ' 'Banque'\n",
      " 'Autre ' 'AUTRE' 'Assurances' 'Assuarnce ' 'autre ' 'leasing' 'offre']\n"
     ]
    }
   ],
   "source": [
    "# Replace null values in 'Affectation par secteur' with 'autre'\n",
    "data.loc[data['Affectation par secteur'].isnull(), 'Affectation par secteur'] = 'Autre'\n",
    "print(data['Affectation par secteur'].unique())"
   ]
  },
  {
   "cell_type": "code",
   "execution_count": 36,
   "id": "cbd17adc",
   "metadata": {},
   "outputs": [],
   "source": [
    "data['Affectation par secteur'] = data['Affectation par secteur'].str.replace('AUTRE', 'Autre', regex=True)\n",
    "# Replace values starting with 'autre' (case-insensitive) with 'Autre'\n",
    "# Convert values in 'Affectation par secteur' column to lowercase and check if they start with 'autre'\n",
    "mask = data['Affectation par secteur'].str.lower().str.startswith('autre')\n",
    "\n",
    "# Replace values where the condition is True with 'Autre'\n",
    "data.loc[mask, 'Affectation par secteur'] = 'Autre'\n",
    "data['Affectation par secteur'] = data['Affectation par secteur'].str.replace('Banques ', 'Banque', regex=True)\n",
    "data['Affectation par secteur'] = data['Affectation par secteur'].str.replace('Banque ', 'Banque', regex=True)\n",
    "data['Affectation par secteur'] = data['Affectation par secteur'].str.replace('Banques ', 'Banque', regex=True)\n",
    "\n",
    "data['Affectation par secteur']  = data['Affectation par secteur'] .replace([\"Assurancess\",\"Assurances\"],  \"Assuarnce \")\n",
    "data['Affectation par secteur'] = data['Affectation par secteur'].str.replace('SFS ', 'SFS' , regex=True)\n"
   ]
  },
  {
   "cell_type": "code",
   "execution_count": 37,
   "id": "91212e5f",
   "metadata": {},
   "outputs": [
    {
     "name": "stdout",
     "output_type": "stream",
     "text": [
      "['Banque' 'SFS' 'Autre' 'Assuarnce ' 'leasing' 'offre']\n"
     ]
    }
   ],
   "source": [
    "print(data['Affectation par secteur'].unique())"
   ]
  },
  {
   "cell_type": "code",
   "execution_count": 38,
   "id": "36108246",
   "metadata": {},
   "outputs": [],
   "source": [
    "data['Affectation géographique'].fillna(pd.NaT, inplace=True)"
   ]
  },
  {
   "cell_type": "code",
   "execution_count": 39,
   "id": "139cdc48",
   "metadata": {},
   "outputs": [
    {
     "name": "stdout",
     "output_type": "stream",
     "text": [
      "['Tunisie ' 'Mali ' 'Mauritanie ' 'France ' 'Bénin ' 'Burkina'\n",
      " 'République centrafricaine' NaT 'Ghana ' '\\xa0Malvales' 'Sénégal'\n",
      " 'Afrique du Sud' 'Tunise' 'Mauritanie' 'Tuns' 'Mali' 'France' 'Tunisie'\n",
      " \"Coté d'ivoire \" 'Paris' 'TOGO' 'Angola ' 'Comores' 'MADAGASIKARA '\n",
      " 'Guinée' 'Maldives ' 'Maroc' ' Comoros ' 'Burkina ' 'Guiné' 'Cameroun '\n",
      " 'MAROC' \"Côte d'Ivoire\" 'SENEGAL ' 'Burkina-Faso' 'GHANA ' 'Dubai'\n",
      " ' Guinée' 'Lybie' 'Cameroun' 'Mozambique' 'Sao Tome ' 'Maroc ' 'Sénegal'\n",
      " 'BENIN' ' Iles Maurices' 'MAURITANIE' 'TOGO ' 'madagascar' 'Congo'\n",
      " 'Burkina - Guinée' 'KENYA' 'NIGER ' 'MAURICES' 'CAMEROUN' 'Bélgique '\n",
      " 'MAURITANIE ' 'MALI' 'Madagascar' 'Arabie\\xa0saoudite' 'LYBIE' 'Somalie '\n",
      " 'Bélgique' 'Madagascar ' 'Guinée ' 'Togo' 'france' 'SEYCHELLES' 'MAROC '\n",
      " 'Sénégal ']\n"
     ]
    }
   ],
   "source": [
    "print(data['Affectation géographique'].unique())"
   ]
  },
  {
   "cell_type": "code",
   "execution_count": 40,
   "id": "d4d2d328",
   "metadata": {},
   "outputs": [
    {
     "name": "stdout",
     "output_type": "stream",
     "text": [
      "18\n"
     ]
    }
   ],
   "source": [
    "print(data['Affectation géographique'].isnull().sum())"
   ]
  },
  {
   "cell_type": "code",
   "execution_count": 41,
   "id": "fbbc9f13",
   "metadata": {},
   "outputs": [
    {
     "name": "stdout",
     "output_type": "stream",
     "text": [
      "    Affectation par domaine D'activitée    Code Date de création   \\\n",
      "16                         BU.Digitaly   B-5636        2024-03-04   \n",
      "80                         Intégration   I-9420        2023-07-28   \n",
      "90                         Intégration   I-6129        2023-06-26   \n",
      "108                             conseil  C-9497        2023-05-24   \n",
      "109                        Intégration   I-1533        2022-01-20   \n",
      "110                             conseil  C-7631        2023-05-24   \n",
      "116                        Intégration   I-7684        2022-02-04   \n",
      "142                             conseil  C-7942        2023-02-28   \n",
      "154                        Intégration   I-7453        2022-04-08   \n",
      "165                             conseil  C-3230        2023-06-01   \n",
      "179                             Conseil  C-9917        2022-10-10   \n",
      "184                             Conseil  C-1491        2022-10-14   \n",
      "186                             Conseil  C-8310        2022-10-10   \n",
      "201                        Intégration   I-4677        2022-06-16   \n",
      "204                        Intégration   I-6019        2022-06-16   \n",
      "212                        Intégration   I-1522        2022-06-16   \n",
      "219                        Intégration   I-7272        2022-07-04   \n",
      "291                             Conseil  C-9553        2022-10-17   \n",
      "\n",
      "                                         Nom du client  \\\n",
      "16                                        Britam Group   \n",
      "80                                             Ecobank   \n",
      "90                                             \\tUSAID   \n",
      "108                                                TNP   \n",
      "109                                              SANZA   \n",
      "110                                                TNP   \n",
      "116                                           MCBS BIS   \n",
      "142                                                AWB   \n",
      "154             Institution de microfinance (MEA-ASIA)   \n",
      "165           NAIB (North Africa International Bank )    \n",
      "179                 Ecobank Transnational Incorporated   \n",
      "184                                                BCP   \n",
      "186                                               BERD   \n",
      "201  MICROFINANCE INSTITUTION (INSURANCE GROUP MAUR...   \n",
      "204                                        AZAMRA BANK   \n",
      "212                                       NAZIHAR TECH   \n",
      "219  Palestine Treasury Management System Implement...   \n",
      "291   Dépositaire Central / Banque de Règlement (DC/BR   \n",
      "\n",
      "                                    Intitulé du projet          Type  \\\n",
      "16   implementation of A Customer Relationship Mana...           AOI   \n",
      "80   Implementation of Temenos T24 IN favor of Proc...  Consultation   \n",
      "90   Prestation de service informatiques pour le Dé...            DP   \n",
      "108  Proposition de 2 dévleoppeurs Java Full stack ...  Consultation   \n",
      "109  DIGITAL CORE BANKING APPLICATION SOFTWARE / Pa...  Consultation   \n",
      "110  Proposition de profil : un profit Data intégri...  Consultation   \n",
      "116  Offre développement d’une nouvelle interface c...  Consultation   \n",
      "142                       choix de solution monétique            AMI   \n",
      "154              MCBC-Mise en place de UXP/ TCIB-TCMB   Consultation   \n",
      "165  Assistance au choix d’une solution Card Manage...  Consultation   \n",
      "179  Customer Value Proposition Advisory Service fo...           AMI   \n",
      "184  Signature électronique, Authentification et Id...  Consultation   \n",
      "186  manifestation d’intérêt aux consultants et cab...           AMI   \n",
      "201            MISE EN PLACE DES MODULES UXP/TCIB-TCMB  Consultation   \n",
      "204         Mise en place de Accelerator, FCM and TCxB  Consultation   \n",
      "212                INSTALLATION ET FORMATION ANALYTICS  Consultation   \n",
      "219  Palestine Treasury Management System Implement...  Consultation   \n",
      "291  Projet de digitalisation des opérations d’Appe...           AMI   \n",
      "\n",
      "    Affectation par secteur Affectation géographique  \\\n",
      "16                    Autre                      NaT   \n",
      "80                   Banque                      NaT   \n",
      "90                    Autre                      NaT   \n",
      "108                   Autre                      NaT   \n",
      "109                  Banque                      NaT   \n",
      "110                   Autre                      NaT   \n",
      "116                  Banque                      NaT   \n",
      "142                   Autre                      NaT   \n",
      "154                  Banque                      NaT   \n",
      "165                  Banque                      NaT   \n",
      "179                  Banque                      NaT   \n",
      "184                   Autre                      NaT   \n",
      "186                   Autre                      NaT   \n",
      "201                     SFS                      NaT   \n",
      "204                  Banque                      NaT   \n",
      "212                   Autre                      NaT   \n",
      "219                   Autre                      NaT   \n",
      "291                  Banque                      NaT   \n",
      "\n",
      "    Résultat de l'opportunité  Date de création de l'offre   ...  \\\n",
      "16                      Offre                    2024-03-04  ...   \n",
      "80                       offre                   2023-07-28  ...   \n",
      "90                       offre                   2023-06-26  ...   \n",
      "108                      offre                   2023-05-24  ...   \n",
      "109                      offre                   2022-01-20  ...   \n",
      "110                      offre                   2023-05-24  ...   \n",
      "116                      offre                   2022-02-04  ...   \n",
      "142                      offre                   2023-02-28  ...   \n",
      "154                      offre                   2022-04-08  ...   \n",
      "165                      offre                   2023-06-01  ...   \n",
      "179                      offre                   2022-10-10  ...   \n",
      "184                      offre                   2022-10-14  ...   \n",
      "186                      offre                   2022-10-10  ...   \n",
      "201                      offre                   2022-06-16  ...   \n",
      "204                      offre                   2022-06-16  ...   \n",
      "212                      offre                   2022-06-16  ...   \n",
      "219                      offre                   2022-07-04  ...   \n",
      "291                      offre                   2022-10-17  ...   \n",
      "\n",
      "                       Groupement / consultant seul  Caution   \\\n",
      "16                                              ACC       NaN   \n",
      "80                                              MCBC      NaN   \n",
      "90                                               NaN      NaN   \n",
      "108                                              NaN      NaN   \n",
      "109  TEMENOS  + Professionnels for smart technology       NaN   \n",
      "110                                              NaN      NaN   \n",
      "116                                              NaN      NaN   \n",
      "142                                              NaN      NaN   \n",
      "154                                              NaN      NaN   \n",
      "165                                              NaN      NaN   \n",
      "179                                              TNP      NaN   \n",
      "184                                             TNP       NaN   \n",
      "186                                              NaN      NaN   \n",
      "201                                              NaN      NaN   \n",
      "204                                              NaN      NaN   \n",
      "212                                              NaN      NaN   \n",
      "219                                              NaN      NaN   \n",
      "291                                              NaN      NaN   \n",
      "\n",
      "     délai des remises des offres Type de transmission Statut de l'offre   \\\n",
      "16                     2024-03-08                  NaN      Offre envoyée   \n",
      "80                     2023-07-28                  NaN            Envoyée   \n",
      "90                            NaT                  NaN             Piste    \n",
      "108                    2023-08-31                  NaN            envoyée   \n",
      "109                    2022-01-31                  NaN            Envoyée   \n",
      "110                    2023-08-31                  NaN            envoyée   \n",
      "116                    2022-02-04                  NaN            Envoyée   \n",
      "142                    2023-02-28                  NaN            Envoyée   \n",
      "154                    2022-04-08                  NaN            Perdue    \n",
      "165                    2023-06-01                  NaN            Envoyée   \n",
      "179                    2022-10-28                  NaN            Envoyée   \n",
      "184                    2022-10-21                  NaN            Envoyée   \n",
      "186                    2022-10-17                  NaN            Envoyée   \n",
      "201                    2022-05-27                  NaN            Envoyée   \n",
      "204                    2022-06-01                  NaN            Envoyée   \n",
      "212                    2022-06-01                  NaN            Envoyée   \n",
      "219                    2022-07-01                  NaN            Envoyée   \n",
      "291                           NaT                  NaN            Envoyée   \n",
      "\n",
      "    Résultat de l'offre                                       Commentaires   \\\n",
      "16           En attente                                                 NaN   \n",
      "80              A suivre                                    PAS DE DOSSIER    \n",
      "90            Abandonnée                                    PAS DE DOSSIER    \n",
      "108             A suivre                                    pas de dossier    \n",
      "109              Perdue                                     Pas de dossier    \n",
      "110             A suivre                     CDC envoyé à NHI le 25/05/2023   \n",
      "116               Gagnée   DOSSIER RECU LE 16/05/2023 (NHI),   DOSSIER R...   \n",
      "142              Perdue                                En cours de décison    \n",
      "154             A suivre                               En cours de décison    \n",
      "165             stand by                                   A relancer (MTR)   \n",
      "179              Perdue                                                 NaN   \n",
      "184              Perdue                                                 NaN   \n",
      "186              Perdue                                                 NaN   \n",
      "201              Perdue                                                 NaN   \n",
      "204              Perdue                                                 NaN   \n",
      "212              Perdue                                                 NaN   \n",
      "219              Perdue                                                 NaN   \n",
      "291              Perdue                                                 NaN   \n",
      "\n",
      "    Affectation BU   Statut Montant  \n",
      "16              AC      NaN     NaN  \n",
      "80              AC  Envoyée     NaN  \n",
      "90             NaN   Piste      NaN  \n",
      "108            NaN  envoyée     NaN  \n",
      "109             AC  Envoyée     NaN  \n",
      "110            NaN  envoyée     NaN  \n",
      "116            ABT  Envoyée     NaN  \n",
      "142            NaN  Envoyée     NaN  \n",
      "154            ABT  Perdue      NaN  \n",
      "165             AC  Envoyée     NaN  \n",
      "179             AC  Envoyée     NaN  \n",
      "184             AC  Envoyée     NaN  \n",
      "186       Digitaly  Envoyée     NaN  \n",
      "201            ABT  Envoyée     NaN  \n",
      "204             AC  Envoyée     NaN  \n",
      "212             AC  Envoyée     NaN  \n",
      "219            ABT  Envoyée     NaN  \n",
      "291             AC  Envoyée     NaN  \n",
      "\n",
      "[18 rows x 23 columns]\n"
     ]
    }
   ],
   "source": [
    "# Filter rows where 'Affectation géographique' is null\n",
    "rows_with_null = data[data['Affectation géographique'].isnull()]\n",
    "\n",
    "# Print the rows with null values in 'Affectation géographique'\n",
    "print(rows_with_null)\n"
   ]
  },
  {
   "cell_type": "code",
   "execution_count": 42,
   "id": "9a8d4189",
   "metadata": {},
   "outputs": [
    {
     "name": "stdout",
     "output_type": "stream",
     "text": [
      "['Tunisie ' 'Mali ' 'Mauritanie ' 'France ' 'Bénin ' 'Burkina'\n",
      " 'République centrafricaine' NaT 'Ghana ' '\\xa0Malvales' 'Sénégal'\n",
      " 'Afrique du Sud' 'Tunise' 'Mauritanie' 'Tuns' 'Mali' 'France' 'Tunisie'\n",
      " \"Coté d'ivoire \" 'Paris' 'TOGO' 'Angola ' 'Comores' 'MADAGASIKARA '\n",
      " 'Guinée' 'Maldives ' 'Maroc' ' Comoros ' 'Burkina ' 'Guiné' 'Cameroun '\n",
      " 'MAROC' \"Côte d'Ivoire\" 'Burkina-Faso' 'GHANA ' 'Dubai' ' Guinée' 'Lybie'\n",
      " 'Cameroun' 'Mozambique' 'Sao Tome ' 'Maroc ' 'BENIN' ' Iles Maurices'\n",
      " 'MAURITANIE' 'TOGO ' 'madagascar' 'Congo' 'Burkina - Guinée' 'KENYA'\n",
      " 'NIGER ' 'MAURICES' 'CAMEROUN' 'Bélgique ' 'MAURITANIE ' 'MALI'\n",
      " 'Madagascar' 'Arabie\\xa0saoudite' 'LYBIE' 'Somalie ' 'Bélgique'\n",
      " 'Madagascar ' 'Guinée ' 'Togo' 'france' 'SEYCHELLES' 'MAROC ']\n"
     ]
    }
   ],
   "source": [
    "# Replace variations of 'Sénégal' with 'Sénégal'\n",
    "data['Affectation géographique'] = data['Affectation géographique'].replace(['Sénégal', 'SENEGAL', 'Sénegal','Sénégal ','SENEGAL '], 'Sénégal')\n",
    "print(data['Affectation géographique'].unique())"
   ]
  },
  {
   "cell_type": "code",
   "execution_count": 43,
   "id": "be62fec0",
   "metadata": {
    "scrolled": true
   },
   "outputs": [
    {
     "name": "stdout",
     "output_type": "stream",
     "text": [
      "['Tunisie' 'Mali' 'Mauritanie' 'France' 'Bénin' 'Burkina Faso'\n",
      " 'République centrafricaine' NaT 'Ghana' 'Maldives' 'Sénégal'\n",
      " 'Afrique du Sud' \"Côte d'Ivoire\" 'Togo' 'Angola' 'Comores' 'Madagascar'\n",
      " 'Guinée' 'Maroc' 'Cameroun' 'Dubai' 'Libye' 'Mozambique' 'Sao Tome'\n",
      " 'Iles Maurices' 'Arabie saoudite' 'Congo' 'Kenya' 'Niger' 'Bélgique'\n",
      " 'Somalie' 'Seychelles']\n"
     ]
    }
   ],
   "source": [
    "data['Affectation géographique'] = data['Affectation géographique'].replace(['Mauritanie', 'MAURITANIE'], 'Mauritanie')\n",
    "data['Affectation géographique'] = data['Affectation géographique'].replace(['Tunise', 'Tunisie','Tuns','Tunisie '], 'Tunisie')\n",
    "data['Affectation géographique'] = data['Affectation géographique'].replace(['france', 'Paris','France '], 'France')\n",
    "data['Affectation géographique'] = data['Affectation géographique'].replace(['BENIN','Bénin '], 'Bénin')\n",
    "data['Affectation géographique'] = data['Affectation géographique'].replace(['Burkina','Burkina-Faso','Burkina - Guinée','Burkina '], 'Burkina Faso')\n",
    "data['Affectation géographique'] = data['Affectation géographique'].replace(['GHANA','Ghana ','GHANA '], 'Ghana')\n",
    "data['Affectation géographique'] = data['Affectation géographique'].replace(['Malvales','\\xa0Malvales','Maldives '], 'Maldives')\n",
    "data['Affectation géographique'] = data['Affectation géographique'].replace([\"Coté d'ivoire\",\"Coté d'ivoire \"], \"Côte d'Ivoire\")\n",
    "\n",
    "data['Affectation géographique'] = data['Affectation géographique'].replace([\"madagascar\"], \"Madagascar\")\n",
    "data['Affectation géographique'] = data['Affectation géographique'].replace([\"Iles Maurices\"], \"Île Maurice\")\n",
    "\n",
    "data['Affectation géographique'] = data['Affectation géographique'].replace([\"Lybie\",\"LYBIE\"], \"Libye\")\n",
    "data['Affectation géographique'] = data['Affectation géographique'].replace(['Arabie\\xa0saoudite'],'Togo')\n",
    "data['Affectation géographique'] = data['Affectation géographique'].replace(['TOGO '], \"Arabie saoudite\")\n",
    "data['Affectation géographique'] = data['Affectation géographique'].replace(['MADAGASIKARA','MADAGASIKARA ','Madagascar '], \"Madagascar\")\n",
    "data['Affectation géographique'] = data['Affectation géographique'].replace(['Mauritanie ','MAURITANIE '], 'Mauritanie')\n",
    "data['Affectation géographique'] = data['Affectation géographique'].replace(['Mali ','MALI'], 'Mali')\n",
    "data['Affectation géographique'] = data['Affectation géographique'].replace([' Comoros '], 'Comores')\n",
    "data['Affectation géographique'] = data['Affectation géographique'].replace(['Guiné',' Guinée'], 'Guinée' )\n",
    "data['Affectation géographique'] = data['Affectation géographique'].replace(['MAURICES', ' Iles Maurices'], 'Iles Maurices'  )\n",
    "data['Affectation géographique'] = data['Affectation géographique'].replace(['Maroc ','MAROC','MAROC '],  'Maroc'  )\n",
    "data['Affectation géographique'] = data['Affectation géographique'].replace(['CAMEROUN','Cameroun ' ],  'Cameroun'  )\n",
    "data['Affectation géographique'] = data['Affectation géographique'].replace(['TOGO' ],  'Togo'  )\n",
    "data['Affectation géographique'] = data['Affectation géographique'].replace(['KENYA' ],  'Kenya'  )\n",
    "data['Affectation géographique'] = data['Affectation géographique'].replace(['NIGER ' ],  'Niger'  )\n",
    "data['Affectation géographique'] = data['Affectation géographique'].replace(['SEYCHELLES'],  'Seychelles'  )\n",
    "data['Affectation géographique'] = data['Affectation géographique'].replace(['Bélgique '],   'Bélgique'  )\n",
    "data['Affectation géographique'] = data['Affectation géographique'].replace(r'^\\s*$', np.nan, regex=True)\n",
    "data['Affectation géographique'] = data['Affectation géographique'].str.strip()\n",
    "\n",
    "print(data['Affectation géographique'].unique())"
   ]
  },
  {
   "cell_type": "code",
   "execution_count": 44,
   "id": "ca657914",
   "metadata": {},
   "outputs": [
    {
     "name": "stdout",
     "output_type": "stream",
     "text": [
      "Tunisie                      114\n",
      "Maroc                         18\n",
      "Côte d'Ivoire                 15\n",
      "France                        15\n",
      "Sénégal                       13\n",
      "Cameroun                      12\n",
      "Mauritanie                    12\n",
      "Mali                          10\n",
      "Libye                         10\n",
      "Togo                           8\n",
      "Guinée                         8\n",
      "Burkina Faso                   7\n",
      "Comores                        7\n",
      "Madagascar                     4\n",
      "Bénin                          4\n",
      "Maldives                       3\n",
      "Bélgique                       2\n",
      "Kenya                          2\n",
      "Iles Maurices                  2\n",
      "Angola                         2\n",
      "Niger                          2\n",
      "Arabie saoudite                2\n",
      "Ghana                          2\n",
      "République centrafricaine      1\n",
      "Dubai                          1\n",
      "Somalie                        1\n",
      "Congo                          1\n",
      "Afrique du Sud                 1\n",
      "Seychelles                     1\n",
      "Sao Tome                       1\n",
      "Mozambique                     1\n",
      "Name: Affectation géographique, dtype: int64\n"
     ]
    }
   ],
   "source": [
    "nombre_lignes_par_pays = data['Affectation géographique'].value_counts()\n",
    "print(nombre_lignes_par_pays)"
   ]
  },
  {
   "cell_type": "code",
   "execution_count": null,
   "id": "27a084b8",
   "metadata": {},
   "outputs": [],
   "source": []
  },
  {
   "cell_type": "code",
   "execution_count": 45,
   "id": "8f151929",
   "metadata": {},
   "outputs": [
    {
     "name": "stdout",
     "output_type": "stream",
     "text": [
      "['Offre' 'O.abandonnée']\n"
     ]
    }
   ],
   "source": [
    "\n",
    "data[\"Résultat de l'opportunité \"] = data[\"Résultat de l'opportunité \"].replace([\"Offre \",\"offfre\",\"offre\",\"offre \"], \"Offre\")\n",
    "\n",
    "print(data[\"Résultat de l'opportunité \"].unique())"
   ]
  },
  {
   "cell_type": "code",
   "execution_count": 46,
   "id": "79ee03a1",
   "metadata": {},
   "outputs": [],
   "source": [
    "data[\"Date de création de l'offre \"].fillna(pd.NaT, inplace=True)"
   ]
  },
  {
   "cell_type": "code",
   "execution_count": 47,
   "id": "d6f163dd",
   "metadata": {
    "scrolled": true
   },
   "outputs": [
    {
     "name": "stdout",
     "output_type": "stream",
     "text": [
      "['MTR' 'MMO' 'NHI' 'MGU']\n"
     ]
    }
   ],
   "source": [
    "# Replace null values in 'Resposable' with 'MMO'\n",
    "data['Resposable '] = data['Resposable '].replace(['MTR ','MTR ','MTR  '], 'MTR')\n",
    "data['Resposable '] = data['Resposable '].replace(['NHI ' ], 'NHI' )\n",
    "data['Resposable '] = data['Resposable '].replace(['MGU '], 'MGU' )\n",
    "data['Resposable '] = data['Resposable '].replace(['MMO '], 'MMO' )\n",
    "data['Resposable '] = data['Resposable '].replace([np.nan], 'MMO')\n",
    "\n",
    "print(data['Resposable '].unique())"
   ]
  },
  {
   "cell_type": "code",
   "execution_count": 48,
   "id": "51354201",
   "metadata": {},
   "outputs": [
    {
     "name": "stdout",
     "output_type": "stream",
     "text": [
      "['Rahma Ben Mrad' nan 'Malek Rekik' 'Selma Tliche' 'ELYES BOULADHANINE'\n",
      " 'Seifeddine Naffati' 'Maroua Boubaker' 'najd hili' 'Hamza Ouri'\n",
      " 'Tarek Sellami' 'Majdi ben Hassen' 'Manel Ammar'\n",
      " 'Majdi ben hassen  +  Tarek sellami' 'Lamia Ben Ayed'\n",
      " 'MAHDI Z +ELYES BOULADHANIN+NAOUFEL' 'mohamed ali trabelsi'\n",
      " 'mariem Ben Zouitine' 'Haythem Hamzaoui']\n"
     ]
    }
   ],
   "source": [
    "data['Manager '] = data['Manager '].replace(['RBM','Rahma ben Mrad ','Rahma Ben Mrad ','Rahma Ben MRAD ','RAHMA BEN MRAD '], 'Rahma Ben Mrad')\n",
    "data['Manager '] = data['Manager '].replace(['Majdi Ben Hassen ','Majdi ben hassen ' ,'Majdi ben Hassen  '], 'Majdi ben Hassen ')\n",
    "\n",
    "data['Manager '] = data['Manager '].replace(['TareK Sellami'], 'Tarek Sellami')\n",
    "data['Manager '] = data['Manager '].replace(['Malek Rekik ','MRE','Malek rekik','Malek rekik '], 'Malek Rekik')\n",
    "data['Manager '] = data['Manager '].replace(['HAMZA OURI ','HAMZA OURI','Hamza Ouri '],  'Hamza Ouri')\n",
    "data['Manager '].fillna(np.nan, inplace=True)\n",
    "data['Manager '] = data['Manager '].replace(['-'], np.nan)\n",
    "data['Manager '] = data['Manager '].str.strip()\n",
    "\n",
    "print(data['Manager '].unique())"
   ]
  },
  {
   "cell_type": "code",
   "execution_count": 49,
   "id": "9a9f56ab",
   "metadata": {},
   "outputs": [
    {
     "name": "stdout",
     "output_type": "stream",
     "text": [
      "['Molka Hali ' 'Abir Riahi ' nan 'Moez Wesleti ' 'Kamel Dallel '\n",
      " 'Med Hedi Touili ' 'Abir Riahi / Molka Hali' 'Majdi Ben Hassen '\n",
      " 'Equipe Salesforce + Molka ' 'Abir Riahi/ Molka Hali ' 'MRE '\n",
      " 'Moez OUSLATI ' 'Kamel DALLEL' 'ABIR RIAHI ' 'Majdi BEN HASSEN'\n",
      " 'RAJA ZARRAD ' 'Raja Zarrad' 'MAJDI BEN HASSEN' 'Molka Mathlouthi '\n",
      " 'MAJDI BEN HASSEN ' 'IMEN CHEKKI' 'Rajaa ZARRAD' 'Majdi BEN HASSEN '\n",
      " 'Majdi Ben Haasen ' 'Majdi ben Hassen ' 'Emna ben Bahi +Leila CHEIKH '\n",
      " 'Emna Ben Bahri ' 'Majdi Ben Hassen' 'Manel Ammar ' 'Ines Mhiri '\n",
      " 'MOLKA MATHLOUTHI ' 'Majdi ben Hassen' 'EBO' 'EBA' 'Sarra Ben  Ammar '\n",
      " 'MOLKA MATHLOUTHI' 'Sarra ben Ammar ' 'Molka Mathlouthi'\n",
      " 'Molka Mathlouthi + Majdi  Ben Hassen ' 'Majdi Ben HASSEN '\n",
      " 'Marwa Bejaoui +  EMNA BEN BAHRI ' 'Kamel Dalel + Yosr lahbaeil'\n",
      " 'Yosr lahbaeil + Fatma ' 'Siwar Nefzi' 'SARRA  BEN AMMAR+ Manel '\n",
      " 'Yosr lahbaeil' 'Hajer Housseini' 'EMNA BAHRI ' 'Nour Nfoussi'\n",
      " 'Kamel Dalel' 'Souhir' 'Hajer Housseini ' 'Mehdi bellakhal' 'EBB' 'IMH'\n",
      " 'Majdi Ben HASSEN' 'Majdi Ben Hasen' 'MBZ' 'SNE' 'Sarra  Rajhi  ' 'MAM'\n",
      " 'sarra rajhi +majdi ben hassen ' 'Souha Labbessi ']\n",
      "Majdi Ben HASSEN                  10\n",
      "Molka Mathlouthi                   6\n",
      "Majdi Ben Hassen                   6\n",
      "Med Hedi Touili                    4\n",
      "ABIR RIAHI                         4\n",
      "                                  ..\n",
      "MBZ                                1\n",
      "Molka Hali                         1\n",
      "EMNA BAHRI                         1\n",
      "sarra rajhi +majdi ben hassen      1\n",
      "Majdi Ben Hasen                    1\n",
      "Name: Consultant , Length: 62, dtype: int64\n"
     ]
    }
   ],
   "source": [
    "print(data['Consultant '].unique())\n",
    "\n",
    "Consultant = data['Consultant '].value_counts()\n",
    "print(Consultant)"
   ]
  },
  {
   "cell_type": "code",
   "execution_count": 50,
   "id": "ba841d52",
   "metadata": {},
   "outputs": [],
   "source": [
    "\n",
    "\n",
    "# Apply strip() method to remove trailing whitespace from all values in all attributes\n",
    "data = data.applymap(lambda x: x.strip() if isinstance(x, str) else x)\n"
   ]
  },
  {
   "cell_type": "code",
   "execution_count": 51,
   "id": "1eda1c5d",
   "metadata": {},
   "outputs": [
    {
     "name": "stdout",
     "output_type": "stream",
     "text": [
      "['Molka Hali' 'Abir Riahi' nan 'Moez Wesleti' 'Kamel Dallel'\n",
      " 'Med Hedi Touili' 'Abir Riahi / Molka Hali' 'Majdi Ben Hassen'\n",
      " 'Equipe Salesforce + Molka' 'Abir Riahi/ Molka Hali' 'Malek Rekik'\n",
      " 'Kamel Dalel' 'Raja Zarrad' 'Molka Mathlouthi' 'IMEN CHEKKI'\n",
      " 'Emna ben Bahi +Leila CHEIKH' 'Emna Ben Bahri' 'Manel Ammar' 'Ines Mhiri'\n",
      " 'EBO' 'Sarra Ben  Ammar' 'Molka Mathlouthi + Majdi  Ben Hassen'\n",
      " 'Marwa Bejaoui +  EMNA BEN BAHRI' 'Kamel Dalel + Yosr lahbaeil'\n",
      " 'Yosr lahbaeil' 'Siwar Nefzi' 'SARRA  BEN AMMAR+ Manel' 'Hajer Housseini'\n",
      " 'Nour Nfoussi' 'Souhir' 'Mehdi bellakhal' 'Mariem Ben Zouitine'\n",
      " 'Seifeddine NAFFAT' 'Sarra  Rajhi' 'sarra rajhi +majdi ben hassen'\n",
      " 'Souha Labbessi']\n"
     ]
    }
   ],
   "source": [
    "data['Consultant '] = data['Consultant ' ].replace([ 'MOLKA MATHLOUTHI'],  'Molka Mathlouthi')\n",
    "\n",
    "data['Consultant '] = data['Consultant ' ].replace([ 'ABIR RIAHI'],  'Abir Riahi')\n",
    "data['Consultant '] = data['Consultant ' ].replace([ 'Moez OUSLATI'],  'Moez Wesleti')\n",
    "data['Consultant '] = data['Consultant ' ].replace(['Kamel DALLEL'],  'Kamel Dalel')\n",
    "data['Consultant '] = data['Consultant ' ].replace(['Majdi BEN HASSEN','Majdi ben Hassen' ,'MAJDI BEN HASSEN','Majdi Ben Hasen','Majdi Ben HASSEN','Majdi Ben Haasen'],  'Majdi Ben Hassen')\n",
    "data['Consultant '] = data['Consultant ' ].replace(['MRE'],  'Malek Rekik')\n",
    "\n",
    "data['Consultant '] = data['Consultant ' ].replace([ 'RAJA ZARRAD','Rajaa ZARRAD'],  'Raja Zarrad' )\n",
    "data['Consultant '] = data['Consultant ' ].replace([ 'EMNA BAHRI','EBA','EBB'],  'Emna Ben Bahri' )\n",
    "data['Consultant '] = data['Consultant ' ].replace([ 'Sarra ben Ammar'],  'Sarra Ben  Ammar' )\n",
    "data['Consultant '] = data['Consultant ' ].replace([ 'MBZ'],  'Mariem Ben Zouitine' )\n",
    "data['Consultant '] = data['Consultant ' ].replace([ 'SNE'],  'Seifeddine NAFFAT' )\n",
    "data['Consultant '] = data['Consultant ' ].replace([ 'MAM'],  'Manel Ammar' ) \n",
    "data['Consultant '] = data['Consultant ' ].replace([ 'IMH'],  'Ines Mhiri' )  \n",
    "data['Consultant '] = data['Consultant ' ].replace([ 'IMH'],  'Elyes  Bouladhanine' )\n",
    "data['Consultant '] = data['Consultant ' ].replace([  'Yosr lahbaeil + Fatma'], 'Yosr lahbaeil' )\n",
    "data['Consultant '] = data['Consultant '].str.strip()\n",
    "print(data['Consultant '].unique())"
   ]
  },
  {
   "cell_type": "code",
   "execution_count": 52,
   "id": "7527bbe7",
   "metadata": {},
   "outputs": [
    {
     "name": "stdout",
     "output_type": "stream",
     "text": [
      "Majdi Ben Hassen                        32\n",
      "Molka Mathlouthi                        11\n",
      "Abir Riahi                               7\n",
      "Raja Zarrad                              4\n",
      "Med Hedi Touili                          4\n",
      "Emna Ben Bahri                           4\n",
      "Hajer Housseini                          3\n",
      "Manel Ammar                              3\n",
      "Siwar Nefzi                              3\n",
      "Sarra Ben  Ammar                         3\n",
      "Yosr lahbaeil                            2\n",
      "Ines Mhiri                               2\n",
      "Kamel Dalel                              2\n",
      "Molka Mathlouthi + Majdi  Ben Hassen     2\n",
      "Moez Wesleti                             2\n",
      "Equipe Salesforce + Molka                1\n",
      "IMEN CHEKKI                              1\n",
      "sarra rajhi +majdi ben hassen            1\n",
      "Emna ben Bahi +Leila CHEIKH              1\n",
      "Molka Hali                               1\n",
      "Malek Rekik                              1\n",
      "Souhir                                   1\n",
      "EBO                                      1\n",
      "Kamel Dallel                             1\n",
      "Abir Riahi/ Molka Hali                   1\n",
      "Seifeddine NAFFAT                        1\n",
      "Mehdi bellakhal                          1\n",
      "Abir Riahi / Molka Hali                  1\n",
      "Souha Labbessi                           1\n",
      "Mariem Ben Zouitine                      1\n",
      "Kamel Dalel + Yosr lahbaeil              1\n",
      "Nour Nfoussi                             1\n",
      "SARRA  BEN AMMAR+ Manel                  1\n",
      "Sarra  Rajhi                             1\n",
      "Marwa Bejaoui +  EMNA BEN BAHRI          1\n",
      "Name: Consultant , dtype: int64\n"
     ]
    }
   ],
   "source": [
    "\n",
    "Consultant = data['Consultant '].value_counts()\n",
    "print(Consultant)"
   ]
  },
  {
   "cell_type": "code",
   "execution_count": 53,
   "id": "e095ddfb",
   "metadata": {},
   "outputs": [],
   "source": [
    "data['Consultant '].fillna(pd.NaT, inplace=True)"
   ]
  },
  {
   "cell_type": "code",
   "execution_count": 54,
   "id": "174df41e",
   "metadata": {},
   "outputs": [
    {
     "data": {
      "text/plain": [
       "0          Molka Hali\n",
       "1          Abir Riahi\n",
       "2                 NaT\n",
       "3                 NaT\n",
       "4          Abir Riahi\n",
       "            ...      \n",
       "295       Siwar Nefzi\n",
       "296               NaT\n",
       "297    Souha Labbessi\n",
       "298               NaT\n",
       "299               NaT\n",
       "Name: Consultant , Length: 300, dtype: object"
      ]
     },
     "execution_count": 54,
     "metadata": {},
     "output_type": "execute_result"
    }
   ],
   "source": [
    "data['Consultant ']"
   ]
  },
  {
   "cell_type": "code",
   "execution_count": null,
   "id": "85e83d10",
   "metadata": {},
   "outputs": [],
   "source": []
  },
  {
   "cell_type": "code",
   "execution_count": 55,
   "id": "51e027fa",
   "metadata": {},
   "outputs": [
    {
     "name": "stdout",
     "output_type": "stream",
     "text": [
      "['AC' 'ACC + SADIATOU' nan 'ACC + GB2A' 'ACC + Easnets'\n",
      " 'ACC + SOLACE CORPORATION' 'TNP+AC' 'ACC + Temenos' 'GB2A'\n",
      " 'SADIATOU CONSEIL' 'Temenos' 'TNP' 'MCBC' 'Discovery'\n",
      " 'Groupement Accompany Consulting-TEMENOS-DISCOVERY\\nINFORMATIQUE-SADIATOU CONSEIL'\n",
      " 'AC+ OUSSAID +TNP ( chef de file )'\n",
      " 'SADIATOU CONSEILS SARL / AC CHEF DE FILE' 'DABYAN'\n",
      " 'TEMENOS  + Professionnels for smart technology' 'BESTWAY IT'\n",
      " 'Talens consulting' 'Eversheds Sutherland' 'ITECH Guinée' 'Iteam'\n",
      " 'Groupement talent consulting' 'AC+QUALSYS +TNP'\n",
      " 'Groupement Temenos - i tech solution - bestway IT'\n",
      " 'GROUPEMENT AVEC  INGENOSYA' 'Wevioo' 'TEMENOS +GOLD CONSULTING+ BTI'\n",
      " 'QUALISYS+TNP+AC' 'AC+ ACW' 'Temenos+ Tech solution + Natray'\n",
      " 'AC+ TNP +QUALISYS']\n"
     ]
    }
   ],
   "source": [
    "data['Groupement / consultant seul '] = data['Groupement / consultant seul '].replace(['AC (chef de fil )                    Temenos                               Discovery                            Best way'],  'AC' )\n",
    "data['Groupement / consultant seul '] = data['Groupement / consultant seul '].replace([ 'ACC'],  'AC' )\n",
    "data['Groupement / consultant seul '] = data['Groupement / consultant seul '].replace([ 'AC CHEF DE FIL+ Temenos'],  'ACC + Temenos' )\n",
    "data['Groupement / consultant seul '] = data['Groupement / consultant seul '].replace([ 'TNP+ACCOMPANY','ACC + TNP'],  'TNP+AC' )\n",
    "data['Groupement / consultant seul '] = data['Groupement / consultant seul '].replace([ 'ACC+ SADIATOU'],  'ACC + SADIATOU' )\n",
    "data['Groupement / consultant seul '] = data['Groupement / consultant seul '].replace([ 'TEMENOS'],  'Temenos' )\n",
    "data['Groupement / consultant seul '] = data['Groupement / consultant seul '].replace([ 'TNP chef de file'],  'TNP' )\n",
    "data['Groupement / consultant seul '] = data['Groupement / consultant seul '].replace([ 'TNP chef de file'],  'TNP' )\n",
    "data['Groupement / consultant seul '] = data['Groupement / consultant seul '].replace([ 'ITEAM'],  'Iteam' )\n",
    "data['Groupement / consultant seul '] = data['Groupement / consultant seul '].replace([ 'MCBC CONSULTING'],  'MCBC' )\n",
    "data['Groupement / consultant seul '] = data['Groupement / consultant seul '].replace([ 'GROUPEMENT WEVIOO' ],  'Wevioo' )\n",
    "\n",
    "print(data['Groupement / consultant seul '].unique())"
   ]
  },
  {
   "cell_type": "code",
   "execution_count": 56,
   "id": "ddd0ae79",
   "metadata": {},
   "outputs": [
    {
     "name": "stdout",
     "output_type": "stream",
     "text": [
      "TNP                                                                                 14\n",
      "AC                                                                                  12\n",
      "Temenos                                                                              9\n",
      "MCBC                                                                                 5\n",
      "Iteam                                                                                3\n",
      "GB2A                                                                                 3\n",
      "TNP+AC                                                                               3\n",
      "ACC + SADIATOU                                                                       2\n",
      "DABYAN                                                                               2\n",
      "ACC + Temenos                                                                        2\n",
      "Wevioo                                                                               2\n",
      "Groupement talent consulting                                                         1\n",
      "ACC + GB2A                                                                           1\n",
      "Eversheds Sutherland                                                                 1\n",
      "AC+QUALSYS +TNP                                                                      1\n",
      "AC+ TNP +QUALISYS                                                                    1\n",
      "SADIATOU CONSEIL                                                                     1\n",
      "AC+ ACW                                                                              1\n",
      "ITECH Guinée                                                                         1\n",
      "Groupement Temenos - i tech solution - bestway IT                                    1\n",
      "BESTWAY IT                                                                           1\n",
      "Talens consulting                                                                    1\n",
      "ACC + Easnets                                                                        1\n",
      "TEMENOS  + Professionnels for smart technology                                       1\n",
      "SADIATOU CONSEILS SARL / AC CHEF DE FILE                                             1\n",
      "TEMENOS +GOLD CONSULTING+ BTI                                                        1\n",
      "AC+ OUSSAID +TNP ( chef de file )                                                    1\n",
      "GROUPEMENT AVEC  INGENOSYA                                                           1\n",
      "QUALISYS+TNP+AC                                                                      1\n",
      "Groupement Accompany Consulting-TEMENOS-DISCOVERY\\nINFORMATIQUE-SADIATOU CONSEIL     1\n",
      "ACC + SOLACE CORPORATION                                                             1\n",
      "Discovery                                                                            1\n",
      "Temenos+ Tech solution + Natray                                                      1\n",
      "Name: Groupement / consultant seul , dtype: int64\n"
     ]
    }
   ],
   "source": [
    "Groupement = data['Groupement / consultant seul '].value_counts()\n",
    "print(Groupement)"
   ]
  },
  {
   "cell_type": "code",
   "execution_count": 57,
   "id": "c96068e7",
   "metadata": {},
   "outputs": [],
   "source": [
    "data[' délai des remises des offres'].fillna(pd.NaT, inplace=True)"
   ]
  },
  {
   "cell_type": "code",
   "execution_count": 58,
   "id": "8ce5d82f",
   "metadata": {},
   "outputs": [],
   "source": [
    "# Supprimer le symbole \"TND\" de la colonne 'Caution' et remplacer les virgules par des points\n",
    "data['Caution '] = data['Caution '].str.replace('TND', '').str.replace(',', '.')\n",
    "# Remplacer les valeurs non numériques par NaN\n",
    "data['Caution'] = pd.to_numeric(data['Caution '], errors='coerce')\n",
    "\n",
    "# Supprimer le symbole 'DT' de la colonne 'Caution' et remplacer les virgules par des points\n",
    "data['Caution'] = data['Caution '].str.replace('DT', '').str.replace(',', '.')\n",
    "\n",
    "# Supprimer les lignes contenant des valeurs non numériques\n",
    "data = data[data['Caution '] != '-']\n",
    "# Convertir les valeurs en float\n",
    "data['Caution '] = pd.to_numeric(data['Caution '], errors='coerce')\n"
   ]
  },
  {
   "cell_type": "code",
   "execution_count": 59,
   "id": "f598b051",
   "metadata": {},
   "outputs": [
    {
     "name": "stdout",
     "output_type": "stream",
     "text": [
      "1000.000    2\n",
      "1500.000    2\n",
      "3000.000    2\n",
      "0.000       1\n",
      "6313.580    1\n",
      "500.000     1\n",
      "800.000     1\n",
      "4000.000    1\n",
      "2000.000    1\n",
      "5000.000    1\n",
      "1271.186    1\n",
      "Name: Caution , dtype: int64\n"
     ]
    }
   ],
   "source": [
    "print(data['Caution '].value_counts())\n"
   ]
  },
  {
   "cell_type": "code",
   "execution_count": 60,
   "id": "dc1bb1a0",
   "metadata": {},
   "outputs": [],
   "source": [
    "\n",
    "# Convertir la colonne 'Caution ' en type numérique (float)\n",
    "data['Caution '] = data['Caution '].astype(float)\n",
    "# Calculer la colonne 'Montant' comme 3% de la colonne 'Caution'\n",
    "\n",
    "data['Montant'] = data['Caution ']/0.03"
   ]
  },
  {
   "cell_type": "code",
   "execution_count": 61,
   "id": "c901cc8f",
   "metadata": {},
   "outputs": [
    {
     "name": "stdout",
     "output_type": "stream",
     "text": [
      "50000.000000     2\n",
      "33333.333333     2\n",
      "100000.000000    2\n",
      "0.000000         1\n",
      "42372.866667     1\n",
      "16666.666667     1\n",
      "133333.333333    1\n",
      "166666.666667    1\n",
      "210452.666667    1\n",
      "66666.666667     1\n",
      "26666.666667     1\n",
      "Name: Montant, dtype: int64\n"
     ]
    }
   ],
   "source": [
    "print(data['Montant'].value_counts())"
   ]
  },
  {
   "cell_type": "code",
   "execution_count": 62,
   "id": "a67a8087",
   "metadata": {},
   "outputs": [],
   "source": [
    "# Remplacer les valeurs nulles dans la colonne 'Caution' par des valeurs aléatoires entre 1000 et 10000\n",
    "mask = data['Caution '].isnull()\n",
    "data.loc[mask, 'Caution '] = np.random.randint(1000, 10001, size=mask.sum())"
   ]
  },
  {
   "cell_type": "code",
   "execution_count": 63,
   "id": "79622415",
   "metadata": {},
   "outputs": [
    {
     "name": "stdout",
     "output_type": "stream",
     "text": [
      "7226.0    2\n",
      "6243.0    2\n",
      "1000.0    2\n",
      "3684.0    2\n",
      "3000.0    2\n",
      "         ..\n",
      "6589.0    1\n",
      "2682.0    1\n",
      "3108.0    1\n",
      "7154.0    1\n",
      "6858.0    1\n",
      "Name: Caution , Length: 292, dtype: int64\n",
      "0      False\n",
      "1      False\n",
      "2      False\n",
      "3      False\n",
      "4      False\n",
      "       ...  \n",
      "295    False\n",
      "296    False\n",
      "297    False\n",
      "298    False\n",
      "299    False\n",
      "Name: Caution , Length: 299, dtype: bool\n"
     ]
    }
   ],
   "source": [
    "print(data['Caution '].value_counts())\n",
    "print( data['Caution '].isnull())"
   ]
  },
  {
   "cell_type": "code",
   "execution_count": 64,
   "id": "558d9104",
   "metadata": {},
   "outputs": [],
   "source": [
    "data['Montant'] = data['Caution ']/0.03"
   ]
  },
  {
   "cell_type": "code",
   "execution_count": 65,
   "id": "96b9eee9",
   "metadata": {},
   "outputs": [
    {
     "name": "stdout",
     "output_type": "stream",
     "text": [
      "100000.000000    2\n",
      "33333.333333     2\n",
      "208100.000000    2\n",
      "122800.000000    2\n",
      "240866.666667    2\n",
      "                ..\n",
      "223733.333333    1\n",
      "231800.000000    1\n",
      "201166.666667    1\n",
      "64633.333333     1\n",
      "293600.000000    1\n",
      "Name: Montant, Length: 292, dtype: int64\n"
     ]
    }
   ],
   "source": [
    "print(data['Montant'].value_counts())"
   ]
  },
  {
   "cell_type": "code",
   "execution_count": 66,
   "id": "e8cd8cd3",
   "metadata": {},
   "outputs": [],
   "source": [
    "\n",
    "# Conditionally set values based on 'Résultat de l'opportunité'\n",
    "for index, row in data.iterrows():\n",
    "    if row[\"Résultat de l'opportunité \"] == 'O.abandonnée':\n",
    "        data.at[index, 'Statut de l\\'offre'] = 'Perdue '\n",
    "        data.at[index, 'Résultat de l\\'offre '] = 'Abandonnée'\n",
    "    else:\n",
    "        data.at[index, 'Statut de l\\'offre'] = ''"
   ]
  },
  {
   "cell_type": "code",
   "execution_count": 67,
   "id": "355dcbf8",
   "metadata": {},
   "outputs": [],
   "source": [
    "#data.to_excel(\"C:/Users/medal/OneDrive/Bureau/test.xlsx\", sheet_name=\"sheet1\", index=False)\n"
   ]
  },
  {
   "cell_type": "code",
   "execution_count": null,
   "id": "a696c5e5",
   "metadata": {},
   "outputs": [],
   "source": []
  },
  {
   "cell_type": "markdown",
   "id": "0806e939",
   "metadata": {},
   "source": []
  },
  {
   "cell_type": "code",
   "execution_count": 68,
   "id": "84337990",
   "metadata": {},
   "outputs": [],
   "source": [
    "\n",
    "\n",
    "# Supprimer les espaces blancs à droite dans la colonne \"Type de transmission\"\n",
    "data['Type de transmission'] = data['Type de transmission'].str.rstrip()\n"
   ]
  },
  {
   "cell_type": "code",
   "execution_count": 69,
   "id": "b36b2231",
   "metadata": {},
   "outputs": [
    {
     "name": "stdout",
     "output_type": "stream",
     "text": [
      "Dépôt physique                                                                                                                                                                                                                                                                               12\n",
      "Dépôt sur palce par un partenaire loacle                                                                                                                                                                                                                                                      1\n",
      "courrier éléctronique                                                                                                                                                                                                                                                                         1\n",
      "Dépôt  Physique                                                                                                                                                                                                                                                                               1\n",
      "POSTALE                                                                                                                                                                                                                                                                                       1\n",
      "transmission  par mail.                                                                                                                                                                                                                                                                       1\n",
      "Les offres devront être envoyées à offres@gim-uemoa.org ou déposées au GIM-UEMOA à l’adresse suivante :Monsieur le Directeur Général du GIM-UEMOA\\nAlmadies, Immeuble Hermès non loin de Fana Hôtel, Zone 9 Lot G\\nBoîte Postale : 8853 Dakar Yoff (Sénégal)                                  1\n",
      "Physique                                                                                                                                                                                                                                                                                      1\n",
      "DHL                                                                                                                                                                                                                                                                                           1\n",
      "PAR VOIE POSTALE ( 3 copies )                                                       L’adresse de remise de la Proposition est : \\nUnité de Gestion du PAFEEM sise à Hamdallaye ACI 2000 Immeuble Atlantique Assurances -4ème étage Bamako Mali - Numéro de téléphone : (+223) 20 22 45 14     1\n",
      "dépôt par DHL                                                                                                                                                                                                                                                                                 1\n",
      "Dépôt électronique SOUMAYA.BOUABIDI@AlbarakaBank.com.tn                                                                                                                                                                                                                                       1\n",
      "plateforme de la BERD                                                                                                                                                                                                                                                                         1\n",
      "Banque Centrale Populaire \\nDirection Achats, Marchés et Budgets\\nEspace Porte d’Anfa, Bab EL Mansour2,\\nAvenue Moulay Rachid 3ème Etage\\nCasablanca-Maroc                                                                                                                                    1\n",
      "Dépôt éléctronique                                                                                                                                                                                                                                                                            1\n",
      "Algerian Bank of Sénégal (ABS BANK)\\nRoute des Almadies Lot 6, Immeuble AREZKI, 3ème étage – Dakar - Sénégal\\nA l’Attention de Mr Abdelhafid Haned\\nabdelhafid.haned@absbank.sn                                                                                                               1\n",
      "Dépôt électronique                                                                                                                                                                                                                                                                            1\n",
      "Dépôt électroniqueTn_Quotation@giz.de                  L’objet du mail doit porter uniquement la mention « consultation 83448350» Attention de ne pas mettre d’espace entre les chiffres                                                                                                      1\n",
      "Name: Type de transmission, dtype: int64\n"
     ]
    }
   ],
   "source": [
    "print(data['Type de transmission'].value_counts())\n"
   ]
  },
  {
   "cell_type": "code",
   "execution_count": null,
   "id": "dad5effb",
   "metadata": {},
   "outputs": [],
   "source": []
  },
  {
   "cell_type": "code",
   "execution_count": 70,
   "id": "2617567f",
   "metadata": {},
   "outputs": [
    {
     "name": "stdout",
     "output_type": "stream",
     "text": [
      "['Dépôt physique' nan 'DHL' 'Dépôt  Physique'\n",
      " 'PAR VOIE POSTALE ( 3 copies )                                                       L’adresse de remise de la Proposition est : \\nUnité de Gestion du PAFEEM sise à Hamdallaye ACI 2000 Immeuble Atlantique Assurances -4ème étage Bamako Mali - Numéro de téléphone : (+223) 20 22 45 14'\n",
      " 'Dépôt éléctronique' 'Physique' 'plateforme de la BERD' 'POSTALE'\n",
      " 'Dépôt électroniqueTn_Quotation@giz.de                  L’objet du mail doit porter uniquement la mention « consultation 83448350» Attention de ne pas mettre d’espace entre les chiffres'\n",
      " 'Dépôt électronique' 'transmission  par mail.'\n",
      " 'Dépôt sur palce par un partenaire loacle' 'dépôt par DHL'\n",
      " 'Dépôt électronique SOUMAYA.BOUABIDI@AlbarakaBank.com.tn'\n",
      " 'Les offres devront être envoyées à\\xa0offres@gim-uemoa.org\\xa0ou déposées au GIM-UEMOA à l’adresse suivante :Monsieur le Directeur Général du GIM-UEMOA\\nAlmadies, Immeuble Hermès non loin de Fana Hôtel, Zone 9 Lot G\\nBoîte Postale : 8853 Dakar Yoff (Sénégal)'\n",
      " 'courrier éléctronique'\n",
      " 'Algerian Bank of Sénégal (ABS BANK)\\nRoute des Almadies Lot 6, Immeuble AREZKI, 3ème étage – Dakar - Sénégal\\nA l’Attention de Mr Abdelhafid Haned\\nabdelhafid.haned@absbank.sn'\n",
      " 'Banque Centrale Populaire \\nDirection Achats, Marchés et Budgets\\nEspace Porte d’Anfa, Bab EL Mansour2,\\nAvenue Moulay Rachid 3ème Etage\\nCasablanca-Maroc']\n"
     ]
    }
   ],
   "source": [
    "print(data['Type de transmission'].unique())"
   ]
  },
  {
   "cell_type": "code",
   "execution_count": 71,
   "id": "20307243",
   "metadata": {},
   "outputs": [],
   "source": [
    "\n",
    "# Remplacer les valeurs spécifiées dans la colonne 'Type de transmission'\n",
    "data['Type de transmission'] = data['Type de transmission'].replace([\n",
    "    'Physique',\n",
    "    'Banque Centrale Populaire \\nDirection Achats, Marchés et Budgets\\nEspace Porte d’Anfa, Bab EL Mansour2,\\nAvenue Moulay Rachid 3ème Etage\\nCasablanca-Maroc',\n",
    "    'Dépôt  Physique'\n",
    "], 'Dépôt physique')\n",
    "\n",
    "data['Type de transmission'] = data['Type de transmission'].replace([\n",
    "    \"Les offres devront être envoyées à\\xa0offres@gim-uemoa.org\\xa0ou déposées au GIM-UEMOA à l’adresse suivante :Monsieur le Directeur Général du GIM-UEMOA\\nAlmadies, Immeuble Hermès non loin de Fana Hôtel, Zone 9 Lot G\\nBoîte Postale : 8853 Dakar Yoff (Sénégal)\",\n",
    "    'Dépôt  Physique','Dépôt sur palce par un partenaire loacle','Algerian Bank of Sénégal (ABS BANK)\\nRoute des Almadies Lot 6, Immeuble AREZKI, 3ème étage – Dakar - Sénégal\\nA l’Attention de Mr Abdelhafid Haned\\nabdelhafid.haned@absbank.sn'\n",
    "], 'Dépôt physique')\n",
    "\n",
    "data['Type de transmission'] = data['Type de transmission'].replace([\n",
    "    'DHL',\n",
    "    'dépôt par DHL',\n",
    "    'POSTALE',\n",
    "    \"PAR VOIE POSTALE ( 3 copies )                                                       L’adresse de remise de la Proposition est : \\nUnité de Gestion du PAFEEM sise à Hamdallaye ACI 2000 Immeuble Atlantique Assurances -4ème étage Bamako Mali - Numéro de téléphone : (+223) 20 22 45 14\"\n",
    "], 'Dépôt Postale')\n",
    "\n",
    "data['Type de transmission'] = data['Type de transmission'].replace([\n",
    "   ' plateforme de la BERD', 'Dépôt électronique','courrier éléctronique', 'Dépôt électronique SOUMAYA.BOUABIDI@AlbarakaBank.com.tn', 'Dépôt électronique SOUMAYA.BOUABIDI@AlbarakaBank.com.tn', 'transmission  par mail.','plateforme de la BERD', 'Dépôt électroniqueTn_Quotation@giz.de                  L’objet du mail doit porter uniquement la mention « consultation 83448350» Attention de ne pas mettre d’espace entre les chiffres'\n",
    "], 'Dépôt éléctronique')"
   ]
  },
  {
   "cell_type": "code",
   "execution_count": 72,
   "id": "e611a3f5",
   "metadata": {},
   "outputs": [
    {
     "name": "stdout",
     "output_type": "stream",
     "text": [
      "['Dépôt physique' nan 'Dépôt Postale' 'Dépôt éléctronique']\n"
     ]
    }
   ],
   "source": [
    "print(data['Type de transmission'].unique())"
   ]
  },
  {
   "cell_type": "code",
   "execution_count": 73,
   "id": "bb8ce0f4",
   "metadata": {},
   "outputs": [
    {
     "name": "stdout",
     "output_type": "stream",
     "text": [
      "Dépôt physique        18\n",
      "Dépôt éléctronique     7\n",
      "Dépôt Postale          4\n",
      "Name: Type de transmission, dtype: int64\n"
     ]
    }
   ],
   "source": [
    "print(data['Type de transmission'].value_counts())"
   ]
  },
  {
   "cell_type": "code",
   "execution_count": 74,
   "id": "055ec1bb",
   "metadata": {},
   "outputs": [],
   "source": [
    "# Remplacer les valeurs nulles par 'Dépôt physique' dans la colonne 'Type de transmission'\n",
    "data['Type de transmission'].fillna('Dépôt physique', inplace=True)\n"
   ]
  },
  {
   "cell_type": "code",
   "execution_count": 75,
   "id": "f3dcf33c",
   "metadata": {},
   "outputs": [
    {
     "name": "stdout",
     "output_type": "stream",
     "text": [
      "['Dépôt physique' 'Dépôt Postale' 'Dépôt éléctronique']\n"
     ]
    }
   ],
   "source": [
    "print(data['Type de transmission'].unique())"
   ]
  },
  {
   "cell_type": "code",
   "execution_count": 76,
   "id": "44fb86ce",
   "metadata": {},
   "outputs": [
    {
     "name": "stdout",
     "output_type": "stream",
     "text": [
      "['Offre envoyée' nan 'Offre en préparation' 'en cours' 'Envoyée' 'envoyée'\n",
      " 'Piste' 'piste' 'Perdue' 'Gagnée' 'Présélectionné']\n"
     ]
    }
   ],
   "source": [
    " \n",
    "print(data[\"Statut de l'offre \"].unique())\n"
   ]
  },
  {
   "cell_type": "code",
   "execution_count": null,
   "id": "6a831559",
   "metadata": {},
   "outputs": [],
   "source": []
  },
  {
   "cell_type": "code",
   "execution_count": 77,
   "id": "9574a514",
   "metadata": {},
   "outputs": [],
   "source": [
    "\n",
    "data[\"Statut de l'offre \"] = data[\"Statut de l'offre \"].replace([\n",
    "   'Offre envoyée',\n",
    " 'envoyée'\n",
    "    \n",
    "], 'Envoyée')\n",
    "\n",
    "\n",
    "data[\"Statut de l'offre \"] = data[\"Statut de l'offre \"].replace([\n",
    "  'piste'\n",
    "\n",
    "],  'Piste')\n",
    "\n",
    "data[\"Statut de l'offre \"] = data[\"Statut de l'offre \"].replace([\n",
    " 'en cours' \n",
    "\n",
    "],  'Offre en préparation')"
   ]
  },
  {
   "cell_type": "code",
   "execution_count": 78,
   "id": "36f50a92",
   "metadata": {},
   "outputs": [
    {
     "name": "stdout",
     "output_type": "stream",
     "text": [
      "['Envoyée' nan 'Offre en préparation' 'Piste' 'Perdue' 'Gagnée'\n",
      " 'Présélectionné']\n",
      "Envoyée                 220\n",
      "Piste                    60\n",
      "Offre en préparation      8\n",
      "Gagnée                    2\n",
      "Perdue                    2\n",
      "Présélectionné            2\n",
      "Name: Statut de l'offre , dtype: int64\n"
     ]
    }
   ],
   "source": [
    "print(data[\"Statut de l'offre \"].unique())\n",
    "print(data[\"Statut de l'offre \"].value_counts())"
   ]
  },
  {
   "cell_type": "code",
   "execution_count": null,
   "id": "be0076c5",
   "metadata": {},
   "outputs": [],
   "source": []
  },
  {
   "cell_type": "code",
   "execution_count": 79,
   "id": "9bb6995f",
   "metadata": {},
   "outputs": [
    {
     "name": "stdout",
     "output_type": "stream",
     "text": [
      "['3000 ' '6313.58 ' nan '5000 ' '1271.186 ' '1000 ' '1500 ' '3000' '600 '\n",
      " '27 000.000 ' '3500 ' '500 ' '2000 ' '800 ' '0 ' '4000 ']\n"
     ]
    }
   ],
   "source": [
    "print(data[\"Caution\"].unique())"
   ]
  },
  {
   "cell_type": "code",
   "execution_count": 80,
   "id": "68c29bd9",
   "metadata": {},
   "outputs": [],
   "source": [
    " data['Caution']=data['Montant'] *0.03 "
   ]
  },
  {
   "cell_type": "code",
   "execution_count": 81,
   "id": "d56ead36",
   "metadata": {},
   "outputs": [
    {
     "name": "stdout",
     "output_type": "stream",
     "text": [
      "[3000.    6313.58  3441.    9766.    6786.    3109.    7920.    8795.\n",
      " 3151.    5000.    1271.186 6330.    1848.    3307.    9961.    4507.\n",
      " 1000.    2682.    1500.    3684.    8164.    3745.    9288.    7426.\n",
      " 8517.    2562.    8172.    3108.    9164.    3303.    3841.    6627.\n",
      " 7668.    9956.    2086.    2234.    3343.    2941.    5796.    6243.\n",
      " 8700.    8858.    3154.    6636.    5791.    5043.    3267.    7971.\n",
      " 7313.    5289.    6327.    1698.    1816.    8191.    9422.    8892.\n",
      " 8012.    2393.    1182.    2209.    4173.    4098.    9014.    2300.\n",
      " 9362.    7634.    1672.    6742.    5323.    2193.    7251.    5196.\n",
      " 1417.    5909.    5524.    2357.    5780.    6290.    2967.    2322.\n",
      " 4527.    6075.    1615.    9799.    3729.     500.    1588.    8441.\n",
      " 4162.    1705.    5231.    5399.    9200.    7720.    4721.    9126.\n",
      " 2000.    1239.    9210.    2243.    4226.    5547.    4538.    3311.\n",
      " 3685.    3071.    2104.    2376.    3111.    7854.    5357.    5750.\n",
      " 6954.    3134.    2097.    1526.    5476.    8850.    8187.    4728.\n",
      " 7173.    8027.    7226.    9094.    3089.    1849.    1186.    4715.\n",
      " 8147.    6145.    7388.    6442.     800.    8872.    7775.    3625.\n",
      " 7894.    4458.    2979.    4982.    8455.    8564.    2177.    9824.\n",
      " 5041.       0.    2365.    3291.    5622.    3658.    3219.    6195.\n",
      " 7849.    8919.    5254.    7058.    4000.    6571.    3848.    4417.\n",
      " 1748.    3651.    7492.    5996.    6909.    7702.    6589.    8885.\n",
      " 3466.    3881.    9538.    1927.    8808.    9425.    9080.    2116.\n",
      " 1346.    8003.    1723.    4482.    1255.    9813.    3272.    5160.\n",
      " 2617.    4550.    7008.    7944.    9769.    1791.    3708.    4110.\n",
      " 9420.    7154.    2361.    8888.    9569.    1678.    7911.    9189.\n",
      " 6522.    1935.    8044.    7066.    2671.    6433.    4358.    9499.\n",
      " 4427.    7696.    2990.    1694.    8604.    7856.    1792.    1408.\n",
      " 1253.    4656.    3551.    7108.    2411.    7279.    1402.    6672.\n",
      " 5747.    8745.    3477.    3304.    4032.    4996.    6321.    5272.\n",
      " 6918.    4189.    7766.    4919.    6997.    8058.    6858.    3388.\n",
      " 9636.    1900.    7996.    8482.    1939.    9315.    5864.    9668.\n",
      " 7136.    7751.    6936.    6712.    5879.    6590.    4847.    2824.\n",
      " 4353.    3223.    4878.    1803.    2120.    6876.    2960.    9132.\n",
      " 9274.    2934.    8225.    7117.    8306.    3732.    9579.    8149.\n",
      " 8085.    4473.    6035.    2571.    6823.    9995.    6386.    2310.\n",
      " 4931.    4897.    6743.    6859.    3845.    6192.    2833.    4520.\n",
      " 4025.    1587.    6356.    7969.   ]\n"
     ]
    }
   ],
   "source": [
    "print(data[\"Caution\"].unique())"
   ]
  },
  {
   "cell_type": "code",
   "execution_count": null,
   "id": "66234547",
   "metadata": {},
   "outputs": [],
   "source": []
  },
  {
   "cell_type": "code",
   "execution_count": 82,
   "id": "483527c8",
   "metadata": {},
   "outputs": [
    {
     "name": "stdout",
     "output_type": "stream",
     "text": [
      "0\n"
     ]
    }
   ],
   "source": [
    "\n",
    "nb_valeurs_nulles = data['Caution'].isnull().sum()\n",
    "\n",
    "# Afficher le nombre de valeurs nulles dans chaque colonne\n",
    "print(nb_valeurs_nulles)"
   ]
  },
  {
   "cell_type": "code",
   "execution_count": 83,
   "id": "aff59a94",
   "metadata": {},
   "outputs": [],
   "source": [
    "#data.to_excel(\"C:/Users/medal/OneDrive/Bureau/test.xlsx\", sheet_name=\"sheet1\", index=False)"
   ]
  },
  {
   "cell_type": "code",
   "execution_count": 84,
   "id": "98ac90a1",
   "metadata": {},
   "outputs": [],
   "source": [
    "data[\"Affectation par domaine D'activitée\"] = data[\"Affectation par domaine D'activitée\"].str.replace(r'\\bBU\\.', '')"
   ]
  },
  {
   "cell_type": "code",
   "execution_count": 85,
   "id": "856c2665",
   "metadata": {},
   "outputs": [
    {
     "name": "stdout",
     "output_type": "stream",
     "text": [
      "['Conseil' 'Intégration' 'Digitaly' 'Intégration CRM' 'conseil' 'DIGITAL'\n",
      " 'Inégration' 'Digitale' 'Digital' 'INTEGRATION' 'intégration' 'CONSEIL']\n"
     ]
    }
   ],
   "source": [
    "print(data[\"Affectation par domaine D'activitée\"].unique())"
   ]
  },
  {
   "cell_type": "code",
   "execution_count": 86,
   "id": "6245fbf8",
   "metadata": {},
   "outputs": [],
   "source": [
    "\n",
    "data[\"Affectation par domaine D'activitée\"] = data[\"Affectation par domaine D'activitée\"].replace([\n",
    "   'Digitaly',\n",
    " 'DIGITAL','Digitale'\n",
    "    \n",
    "], 'Digital')\n",
    "\n",
    "\n",
    "data[\"Affectation par domaine D'activitée\"] = data[\"Affectation par domaine D'activitée\"].replace([\n",
    "   'Intégration CRM',\n",
    " 'intégration', 'Inégration','INTEGRATION'\n",
    "    \n",
    "], 'Intégration')\n",
    "\n",
    "data[\"Affectation par domaine D'activitée\"] = data[\"Affectation par domaine D'activitée\"].replace([\n",
    "   'CONSEIL',\n",
    "  'conseil'\n",
    "    \n",
    "], 'Conseil')"
   ]
  },
  {
   "cell_type": "code",
   "execution_count": 87,
   "id": "34bf20ff",
   "metadata": {},
   "outputs": [
    {
     "name": "stdout",
     "output_type": "stream",
     "text": [
      "['Conseil' 'Intégration' 'Digital']\n"
     ]
    }
   ],
   "source": [
    "print(data[\"Affectation par domaine D'activitée\"].unique())"
   ]
  },
  {
   "cell_type": "code",
   "execution_count": 88,
   "id": "865546d4",
   "metadata": {},
   "outputs": [
    {
     "name": "stdout",
     "output_type": "stream",
     "text": [
      "['WIFAK BANQUE' 'MEF/PAFEEM' 'STB' 'CDC MAURITANIE' 'BforBank' 'BTS BANK'\n",
      " 'CDC Bénin' 'BIAT' 'MEDD/DGFCE' 'ARCEP'\n",
      " 'MINISTERE DES FINANCES ET DU BUDGET' 'Britam Group' 'BFPME' 'MAE'\n",
      " 'Golden Tintona Investment' 'FTUSA' 'Baobab' 'Assurance BIAT' 'BCEAO'\n",
      " \"Banque de développement de l'Afrique orientale et australe\"\n",
      " 'CDD MAURITANIE' \"Ministère de l'Economie et des Finances\" 'BAOBAB'\n",
      " 'ZITOUNA' 'FIRCA' 'Ecobank Transnational Incorporated'\n",
      " 'Standard BankStandard Bank Of Angola temmenos'\n",
      " 'Tunisia Investment Authority- TIA' 'Banque Centrale des Comores'\n",
      " 'La poste Malgache' 'Banque Régionale des Marchés (Sénégal)' 'BTL' 'GIZ'\n",
      " 'VISTA BANK' 'BIMBANK' 'Bank of Maldives' 'BCP Technologies'\n",
      " 'République du mali ministère de l’économie et des finances'\n",
      " 'Banque Postale des Comoros (BPC)' 'AL BARAKA' 'la poste Tunsienne' 'TNP'\n",
      " 'Banque Postale du COMORES' 'BEAC' 'UNESCO'\n",
      " 'Fonds Interprofessionnel pour la Recherche et le Conseil Agricoles (FIRCA)'\n",
      " \"Groupement Interbancaire Monétique de l'Union Economique et Monétaire Ouest Africaine\"\n",
      " 'BIDC' 'FOND COMMUNAL' 'Développement de la CEDEAO' 'BCS MALI'\n",
      " 'Meck Moroni'\n",
      " 'République Islamique de Mauritanie\\nBANQUE CENTRALE DE MAURITANIE (BCM)\\nProjet d’appui à la modernisation de l’infrastructure financière (PAMIF)'\n",
      " 'Al BARAKA' 'Ecobank' 'WITTI' 'CBF' 'NSIA Bank' 'ECOBANK'\n",
      " 'OREEDOO tunisie' 'USAID' 'Poste Tunsienne' 'Al BARID'\n",
      " 'MINISTERE DE L’ECONOMIE ( Mali ) - REPUBLIQUE DU MALI  - MINISTERE DE L’ECONOMIE \\nET DES FINANCES'\n",
      " 'MUCODEC' 'Expertise France CDC ( Caisse de dépôt et de consignation )'\n",
      " 'MCBC' 'European Commission' 'MCBS: Dubai ISLAMIC BQ' 'ALUBAF'\n",
      " 'Banque Centrale de Mauritanie' 'SANZA' 'Banque centrale de Mauritanie'\n",
      " \"Office des logements du personnel et du ministére de l'éducation\"\n",
      " 'BCRG (Banque Centrale de la République de Guinée )' 'ATIB'\n",
      " 'MCBC_Banque au Cameroun' 'MCBS BIS' 'UIB'\n",
      " 'MCBC-Microfinance Institution (Mozambique)' 'UBCI' 'CHAABI BANK'\n",
      " 'Central Bank of Sao Tome' 'CFE'\n",
      " \"Banque des États de l'Afrique Centrale (BEAC) - Yaoundé - Cameroun\"\n",
      " 'MCBC-Microfinance Institution (Cameroun)'\n",
      " \"AMF-UMOA autrorité des marchés financiers de l'union monétaire Ouest Africaine\"\n",
      " 'SAIPH'\n",
      " 'BSIC \" Banque SAHELO-Saharienne pour l\\'investissement et le commerce'\n",
      " 'GIVUEMOA' 'Al Namaa Libyan Insurance Company'\n",
      " 'L’africaine des Garanties et du Cautionnement au Bénin'\n",
      " 'banque aux Iles Maurices' 'BCM BANQUE CENTRALE DA LA MAURITANIE' 'BOAD'\n",
      " 'la Banque Nationale de Mauritanie (BNM)' 'AWB' 'PYYPL' 'BCC AVEC DABYAN'\n",
      " \"BMICE  (banque magrébiene d'investissement  et de commerce exterieur )\"\n",
      " 'SITEP' 'Caisse des dépots et de  consigntations' 'Bridge Bank Group CI'\n",
      " 'MICROCRED'\n",
      " 'Ministère du commerce, de l’industrie, des petites et moyennes entreprises'\n",
      " 'Institution de microfinance (MEA-ASIA)'\n",
      " 'Ministère de l’Energie et des hydrocarbures\\nUnité de gestion du projet LEAD'\n",
      " 'STAR' 'BH' 'NAIB (North Africa International Bank )'\n",
      " 'République Démocratique du Congo' 'ABI'\n",
      " \"Ministère de l’Eau et de l’Assainissement, les signataires se constituent en groupement d'intérêt par\"\n",
      " 'CBK (CENTRA BANK OF KENYA)' 'ANSI' 'MUPECI MICRO FINANCE' 'TT' 'ADVANS'\n",
      " 'UNITE DE GESTION DES REFORMES DES INSTITUTIONS FINANCIERES DE LA CEMAC (UGRIF)'\n",
      " 'MUPECI MICRO FINANCE avec MCBC' 'BCP' 'BANQUE CENTALE KENYA avec MCBC'\n",
      " 'BERD' 'FFTH' 'THE WOLD BANK IBRD-IDA'\n",
      " 'Caisse des Dépôts et Consignations de Côte d’Ivoire' 'ATL AVEC SANAD'\n",
      " 'BNA' 'SODEPS' 'DEKIMO' 'la Poste TN_E Banking' 'La poste tunisienne'\n",
      " 'ASSURANCE COMAR HAYET'\n",
      " 'MICROFINANCE INSTITUTION (INSURANCE GROUP MAURITIUS) avec MCBC'\n",
      " 'la rose blanche' 'AZAMRA BANK' 'Taysir Micro finance'\n",
      " 'AGENCE NATIONALE POUR LA SOCIETE DE L’INFORMATION'\n",
      " 'IB Bank Burkina International Busnines Bank'\n",
      " \"MINISTERE DE LA TRANSITION NUMERIQUE, DE L’INNOVATION ET DE LA MODERNISATION DE L’ADMINISTRATION (MTNIMA) Projet Régional d'Intégration Numérique en Afrique de l'Ouest (WARDIP)\"\n",
      " 'Runpay'\n",
      " 'LA CAISSE MALIENNE DE SECURITE SOCIALE (CMSS) ET DE L’INSTITUT NATIONAL DE PREVOYANCE SOCIALE (INPS)'\n",
      " 'NAZIHAR TECH' 'la banque centrale des Comores' 'SATURNE'\n",
      " 'GROUPEMENT INTER BANCAIRE MONETIQUE ECONOMIQUE ET MONETAIRE OUESTAFRICAINE      \"GIM-UEMOA\"'\n",
      " 'Palestine Treasury Management System Implementation avec MCBC'\n",
      " 'Ministère de l\\'Energie et des Hydrocarbures \"Madagascar\"' 'AMLAK'\n",
      " 'HANNIBAL LEASING' 'Commercial Bank Cameroun' 'ATTIJARI WAFA Bank'\n",
      " 'ATTIJARI LEASING' 'FGSP SA' 'Crédit Foncier du camroun' 'UEMOA'\n",
      " 'Banque islamique du Sénégal' 'CIBO' 'FIDRA Microfinance'\n",
      " 'Tadawul Financial' 'Délice' 'BNIG (Banque d’Investissement en Guinée'\n",
      " \"Ministère de l 'économie  et des finances\" 'SOMBANK' 'BCT'\n",
      " 'Caisse Malienne\\nde Sécurité Sociale (CMSS) et de l’Institut National\\nde Prévoyance Sociale (INPS)'\n",
      " \"REPUBLIQUE DE COTE D'IVOIRE\\nUnion Discipline Travail\\nCABINET DU PREMIER MINISTRE\"\n",
      " 'BSIC' 'Bridge avec MCBC' 'Al Rahma Micro finance' 'GA' 'DPM'\n",
      " 'Caisse de dépôt et de consignation du BENIN' 'Enabel' 'SIPEM Banque'\n",
      " 'CFE SANAD' 'PADSP-WORLDBANK' \"Ministère de l'économie et des finances\"\n",
      " 'piste leasing avec TNP en France' 'SERGAZ' 'CENTRAL BANK OF SEYCHELLES'\n",
      " 'ABS  BANK' 'SFN Poste' 'GEM UEMOA' \"Ministére de l'éducation-BIRD\"\n",
      " 'SCALIAN' 'Banque Nationale de Développement Économique du Sénégal'\n",
      " 'ATTIJARI ASSURANCE' 'The Maldives Monetary Authority (MMA)'\n",
      " 'LA Poste du TOGO' 'PNUD' 'Observatoire du sahra et du Sahel'\n",
      " 'Dépositaire Central / Banque de Règlement (DC/BR' 'Génerale assistance'\n",
      " 'Ministère de l’Economie et des Finances (MEF)']\n"
     ]
    }
   ],
   "source": [
    "print(data[\"Nom du client\"].unique())"
   ]
  },
  {
   "cell_type": "code",
   "execution_count": 89,
   "id": "1883dc1f",
   "metadata": {},
   "outputs": [
    {
     "name": "stdout",
     "output_type": "stream",
     "text": [
      "BTS BANK                                                              14\n",
      "BforBank                                                              10\n",
      "BCP Technologies                                                       9\n",
      "STB                                                                    8\n",
      "BIAT                                                                   6\n",
      "                                                                      ..\n",
      "MICROFINANCE INSTITUTION (INSURANCE GROUP MAURITIUS) avec MCBC         1\n",
      "Central Bank of Sao Tome                                               1\n",
      "Banque des États de l'Afrique Centrale (BEAC) - Yaoundé - Cameroun     1\n",
      "Banque Nationale de Développement Économique du Sénégal                1\n",
      "DEKIMO                                                                 1\n",
      "Name: Nom du client, Length: 195, dtype: int64\n"
     ]
    }
   ],
   "source": [
    "print(data[\"Nom du client\"].value_counts())"
   ]
  },
  {
   "cell_type": "code",
   "execution_count": 90,
   "id": "7766b74a",
   "metadata": {},
   "outputs": [],
   "source": [
    "#ata.to_excel(\"C:/Users/medal/OneDrive/Bureau/test.xlsx\", sheet_name=\"sheet1\", index=False)"
   ]
  },
  {
   "cell_type": "code",
   "execution_count": 91,
   "id": "84edcd5a",
   "metadata": {},
   "outputs": [],
   "source": [
    "# Condition pour mettre à jour le statut\n",
    "condition = data[\"Résultat de l'offre \"] == 'Abandonnée'\n",
    "\n",
    "# Mise à jour du statut\n",
    "data.loc[condition, 'Statut'] = 'Piste'"
   ]
  },
  {
   "cell_type": "code",
   "execution_count": 92,
   "id": "052320ea",
   "metadata": {},
   "outputs": [
    {
     "name": "stdout",
     "output_type": "stream",
     "text": [
      "[nan 'Piste' 'en cours' 'Envoyée' 'envoyée' 'Perdue' 'Gagnée'\n",
      " 'Présélectionné']\n"
     ]
    }
   ],
   "source": [
    "print(data[\"Statut\"].unique())"
   ]
  },
  {
   "cell_type": "code",
   "execution_count": 97,
   "id": "59680e3c",
   "metadata": {},
   "outputs": [
    {
     "data": {
      "image/png": "[encoded data removed]",
      "text/plain": [
       "<Figure size 720x432 with 1 Axes>"
      ]
     },
     "metadata": {
      "needs_background": "light"
     },
     "output_type": "display_data"
    }
   ],
   "source": [
    "import pandas as pd\n",
    "import matplotlib.pyplot as plt\n",
    "\n",
    "# Suppose df is your DataFrame containing the data\n",
    "# Assuming the DataFrame is named 'df'\n",
    "\n",
    "# Replace NaN values with 0 in the 'Montant' column\n",
    "data['Montant'].fillna(0, inplace=True)\n",
    "\n",
    "# Grouping the data by 'Nom du client' and calculating the sum of 'Montant' for each client\n",
    "client_amount = data.groupby('Type')['Montant'].sum()\n",
    "\n",
    "# Plotting the data\n",
    "plt.figure(figsize=(10, 6))\n",
    "client_amount.plot(kind='bar')\n",
    "plt.title('Montant par offre ')\n",
    "plt.xlabel('Type')\n",
    "plt.ylabel('Budget')\n",
    "plt.xticks(rotation=45)\n",
    "plt.tight_layout()  # Adjust layout\n",
    "plt.show()"
   ]
  },
  {
   "cell_type": "code",
   "execution_count": 6,
   "id": "c41716bd",
   "metadata": {},
   "outputs": [
    {
     "name": "stdout",
     "output_type": "stream",
     "text": [
      "Index(['Affectation par domaine D'activitée', 'Code', 'Date de création ',\n",
      "       'Nom du client', 'Intitulé du projet', 'Type',\n",
      "       'Affectation par secteur', 'Affectation géographique',\n",
      "       'Résultat de l'opportunité ', 'Date de création de l'offre ',\n",
      "       'Resposable ', 'Manager ', 'Consultant ',\n",
      "       'Groupement / consultant seul ', 'Caution ',\n",
      "       ' délai des remises des offres', 'Type de transmission',\n",
      "       'Statut de l'offre ', 'Résultat de l'offre ', 'Commentaires ',\n",
      "       'Affectation BU', 'Statut', 'Montant', 'Caution', 'Unnamed: 24',\n",
      "       'Unnamed: 25'],\n",
      "      dtype='object')\n"
     ]
    }
   ],
   "source": [
    "df =pd.read_excel(\"C:/Users/medal/OneDrive/Bureau/test.xlsx\")  # Replace \"your_data.xlsx\" with the path to your Excel file\n",
    "\n",
    "# Afficher les noms de colonnes\n",
    "titres = df.columns\n",
    "print(titres)"
   ]
  },
  {
   "cell_type": "markdown",
   "id": "4808da36",
   "metadata": {},
   "source": [
    "# DATA Augmentation"
   ]
  },
  {
   "cell_type": "code",
   "execution_count": 1,
   "id": "ca9f680a",
   "metadata": {},
   "outputs": [],
   "source": [
    "import pandas as pd\n",
    "import requests\n",
    "from nlpaug.augmenter.word import SynonymAug\n",
    "import random\n",
    "from datetime import datetime, timedelta\n",
    "\n",
    "# Lire le fichier Excel existant dans un DataFrame\n",
    "df = pd.read_excel(\"C:/Users/medal/OneDrive/Bureau/test.xlsx\")\n",
    "\n",
    "# Listes des options pour chaque colonne\n",
    "domaine_activite = df[\"Affectation par domaine D'activitée\"].unique()\n",
    "types_projet = df['Type'].unique()\n",
    "secteurs = df['Affectation par secteur'].unique()\n",
    "geographies = df['Affectation géographique'].unique()\n",
    "responsables = df['Resposable '].unique()\n",
    "noms_consultants = df['Consultant '].unique()\n",
    "types_transmission = df['Type de transmission'].unique()\n",
    "statuts_offre = df[\"Statut de l'offre \"].unique()\n",
    "resultats_offre = df[\"Résultat de l'offre \"].unique()\n",
    "affectations_BU = df['Affectation BU'].unique()\n",
    "clients = df['Nom du client'].unique()\n",
    "managers = df['Manager '].unique()\n",
    "consultants = df[ 'Consultant '].unique()\n",
    "grouppemment = df[  'Groupement / consultant seul '].unique()\n",
    "\n",
    "# Fonction pour générer une date aléatoire dans une plage donnée\n",
    "def random_date(start_date, end_date):\n",
    "    delta = end_date - start_date\n",
    "    random_days = random.randint(0, delta.days)\n",
    "    return start_date + timedelta(days=random_days)\n",
    "\n",
    "# Fonction pour générer un code unique en fonction du domaine d'activité\n",
    "def generer_code(domaine):\n",
    "    if domaine == \"Conseil\":\n",
    "        return \"c-\" + str(random.randint(1000, 9999))\n",
    "    elif domaine == \"Digital\":\n",
    "        return \"d-\" + str(random.randint(1000, 9999))\n",
    "    elif domaine == \"Integration\":\n",
    "        return \"i-\" + str(random.randint(1000, 9999))\n",
    "    else:\n",
    "        return \"Code_invalide\"\n",
    "\n",
    "# Générer des titres de projet similaires à ceux existants dans les 300 lignes de données\n",
    "aug = SynonymAug(aug_src='wordnet')\n",
    "augmented_titles = []\n",
    "for title in df['Intitulé du projet']:\n",
    "    augmented_title = aug.augment(title)\n",
    "    augmented_titles.append(augmented_title)\n",
    "\n",
    "# Corriger les titres de projet avec LanguageTool\n",
    "corrected_titles = []\n",
    "for title in augmented_titles:\n",
    "    response = requests.get(\"https://languagetool.org/api/v2/check\", params={\"text\": title})\n",
    "    corrected_title = title\n",
    "    if response.status_code == 200:\n",
    "        matches = response.json().get(\"matches\")\n",
    "        for match in matches:\n",
    "            if match['offset'] == 0:\n",
    "                corrected_title = match['replacements'][0]['value']\n",
    "                break\n",
    "    corrected_titles.append(corrected_title)\n",
    "\n",
    "# Ajouter les titres corrigés au DataFrame\n",
    "df['Intitulé du projet'] = corrected_titles\n",
    "\n",
    "# Collecter les 300 titres de projet similaires existants\n",
    "titres_existants = df['Intitulé du projet'].tolist()\n",
    "\n",
    "# Initialiser l'augmentateur de synonymes\n",
    "aug = SynonymAug(aug_src='wordnet')\n",
    "\n",
    "# Générer les données pour les 10000 lignes\n",
    "data = []\n",
    "for _ in range(1000):\n",
    "    domaine_activite_rand = random.choice(domaine_activite)\n",
    "    date_creation = random_date(datetime(2023, 1, 1), datetime.now())\n",
    "    # Assurer que la date de création de l'offre est antérieure à la date de création de l'offre\n",
    "    date_offre = random_date(datetime(2012, 1, 1), date_creation - timedelta(days=1))\n",
    "    manager_rand = random.choice(managers)\n",
    "    consultant_rand = random.choice(consultants)\n",
    "    \n",
    "    titre_existants_aleatoires = random.choice(titres_existants)\n",
    "    nouveau_titre = aug.augment(titre_existants_aleatoires)\n",
    "    corrected_titles = []\n",
    "    response = requests.get(\"https://languagetool.org/api/v2/check\", params={\"text\": nouveau_titre})\n",
    "    corrected_title = nouveau_titre\n",
    "    if response.status_code == 200:\n",
    "        matches = response.json().get(\"matches\")\n",
    "        for match in matches:\n",
    "            if match['offset'] == 0:\n",
    "                corrected_title = match['replacements'][0]['value']\n",
    "                break\n",
    "\n",
    "    row = {\n",
    "        \"Affectation par domaine D'activitée\": domaine_activite_rand,\n",
    "        \"Code\": generer_code(domaine_activite_rand),\n",
    "        \"Date de creation\": date_creation,\n",
    "        \"Nom du client\": random.choice(clients),\n",
    "        \"Type\": random.choice(types_projet),\n",
    "        \"Affectation par secteur\": random.choice(secteurs),\n",
    "        'Affectation géographique': random.choice(geographies),\n",
    "        \"Manager \": manager_rand,\n",
    "        'Intitulé du projet': corrected_title,\n",
    "        'Consultant ': consultant_rand,\n",
    "        \"Resultat de l'opportunite\": random.choice(resultats_offre),\n",
    "        # Utiliser la date de création de l'offre générée précédemment\n",
    "       \"Date de création de l'offre \": date_offre,\n",
    "        'délai des remises des offres': random_date(date_offre, datetime.now()),\n",
    "        \"Type de transmission\": random.choice(types_transmission),\n",
    "        \"Statut de l'offre \": random.choice(statuts_offre),\n",
    "        \"Resultat de l'offre\": random.choice(resultats_offre),\n",
    "        \"Affectation BU\": random.choice(affectations_BU),\n",
    "       'Groupement / consultant seul ': random.choice(grouppemment),\n",
    "        'Coution':random.uniform(1000, 10000) ,\n",
    "        'Montant':random.uniform(10000, 1000000) \n",
    "    }\n",
    "    data.append(row)\n",
    "# Convertir la liste 'data' en DataFrame\n",
    "df_data = pd.DataFrame(data)\n",
    "\n",
    "# Ajouter les 10000 lignes supplémentaires au DataFrame existant\n",
    "df = pd.concat([df, df_data], ignore_index=True)\n",
    "\n",
    "# Enregistrer les données dans un fichier Excel\n",
    "df.to_excel(\"C:/Users/medal/OneDrive/Bureau/test.xlsx\", index=False)\n"
   ]
  },
  {
   "cell_type": "code",
   "execution_count": 33,
   "id": "2b5c116e",
   "metadata": {},
   "outputs": [
    {
     "name": "stdout",
     "output_type": "stream",
     "text": [
      "Nombre de lignes dans le DataFrame : 20299\n"
     ]
    }
   ],
   "source": [
    " nb_lignes = df.shape[0]\n",
    "print(\"Nombre de lignes dans le DataFrame :\", nb_lignes)\n"
   ]
  },
  {
   "cell_type": "code",
   "execution_count": null,
   "id": "a6fdba8c",
   "metadata": {},
   "outputs": [],
   "source": [
    "# Fonction pour générer un code unique en fonction du domaine d'activité\n",
    "def generer_code(domaine):\n",
    "    if domaine == \"Conseil\":\n",
    "        return \"c-\" + str(random.randint(1000, 9999))\n",
    "    elif domaine == \"Digital\":\n",
    "        return \"d-\" + str(random.randint(1000, 9999))\n",
    "    elif domaine == \"Integration\":\n",
    "        return \"i-\" + str(random.randint(1000, 9999))\n",
    "    else:\n",
    "        return \"I-\" + str(random.randint(1000, 9999))\n"
   ]
  },
  {
   "cell_type": "markdown",
   "id": "b5bb52f6",
   "metadata": {},
   "source": []
  },
  {
   "cell_type": "code",
   "execution_count": 35,
   "id": "51937574",
   "metadata": {},
   "outputs": [],
   "source": [
    "\n",
    "# Fonction pour générer un code unique en fonction du domaine d'activité\n",
    "def generer_code(domaine):\n",
    "    if domaine == \"Conseil\":\n",
    "        return \"c-\" + str(random.randint(1000, 9999))\n",
    "    elif domaine == \"Digital\":\n",
    "        return \"d-\" + str(random.randint(1000, 9999))\n",
    "    elif domaine == \"Integration\":\n",
    "        return \"i-\" + str(random.randint(1000, 9999))\n",
    "    else:\n",
    "        return \"I-\" + str(random.randint(1000, 9999))\n",
    "# Lire le fichier Excel existant dans un DataFrame\n",
    "df = pd.read_excel(\"C:/Users/medal/OneDrive/Bureau/test.xlsx\")\n",
    "\n",
    "# Remplacer les valeurs \"Code_invalide\" dans la colonne \"Code\" par des codes générés\n",
    "df['Code'] = df.apply(lambda row: generer_code(row[\"Affectation par domaine D'activitée\"]) if row['Code'] == 'Code_invalide' else row['Code'], axis=1)\n"
   ]
  },
  {
   "cell_type": "code",
   "execution_count": 5,
   "id": "da191ab1",
   "metadata": {},
   "outputs": [],
   "source": [
    "df.to_excel(\"C:/Users/medal/OneDrive/Bureau/test.xlsx\", index=False)\n"
   ]
  },
  {
   "cell_type": "markdown",
   "id": "6042671f",
   "metadata": {},
   "source": [
    "# une classification non supervisée (clustering)"
   ]
  },
  {
   "cell_type": "code",
   "execution_count": null,
   "id": "ab295434",
   "metadata": {},
   "outputs": [],
   "source": [
    "import pandas as pd\n",
    "import matplotlib.pyplot as plt\n",
    "from scipy.cluster.hierarchy import dendrogram, linkage\n",
    "from sklearn.preprocessing import LabelEncoder\n",
    "\n",
    "# Charger les données\n",
    "df = pd.read_excel(\"C:/Users/medal/OneDrive/Bureau/test.xlsx\")\n",
    "\n",
    "# Prétraitement des données\n",
    "# Convertir les valeurs de chaîne en valeurs numériques avec LabelEncoder\n",
    "le = LabelEncoder()\n",
    "df['Résultat de l\\'offre '] = le.fit_transform(df['Résultat de l\\'offre '])\n",
    "\n",
    "# Sélection des caractéristiques pertinentes pour le clustering\n",
    "X = df[['Résultat de l\\'offre ']].values\n",
    "\n",
    "# Appliquer l'algorithme de clustering hiérarchique\n",
    "Z = linkage(X, method='ward', metric='euclidean')\n",
    "\n",
    "# Tracer le dendrogramme\n",
    "plt.figure(figsize=(10, 8))\n",
    "dendrogram(Z, leaf_rotation=90., leaf_font_size=8.)\n",
    "plt.title('Dendrogramme')\n",
    "plt.xlabel('Indice de l\\'échantillon')\n",
    "plt.ylabel('Distance euclidienne')\n",
    "\n",
    "# Ajouter les titres de couleur selon l'échantillon\n",
    "colors = ['r', 'g', 'b']  # Ajoutez autant de couleurs que de clusters\n",
    "labels = df['Cluster']  # Assurez-vous que vous avez une colonne contenant les étiquettes de cluster\n",
    "for i, label in enumerate(labels):\n",
    "    plt.scatter(i, 0, color=colors[label], label=label)\n",
    "\n",
    "plt.legend(loc='best')\n",
    "plt.show()\n"
   ]
  },
  {
   "cell_type": "code",
   "execution_count": null,
   "id": "e1d81d54",
   "metadata": {},
   "outputs": [],
   "source": []
  },
  {
   "cell_type": "code",
   "execution_count": null,
   "id": "6cdb20d5",
   "metadata": {},
   "outputs": [],
   "source": []
  },
  {
   "cell_type": "code",
   "execution_count": null,
   "id": "d5cfad59",
   "metadata": {},
   "outputs": [],
   "source": []
  },
  {
   "cell_type": "code",
   "execution_count": null,
   "id": "ca827314",
   "metadata": {},
   "outputs": [],
   "source": []
  },
  {
   "cell_type": "code",
   "execution_count": 113,
   "id": "067529c5",
   "metadata": {},
   "outputs": [],
   "source": []
  },
  {
   "cell_type": "code",
   "execution_count": null,
   "id": "0d443104",
   "metadata": {},
   "outputs": [],
   "source": []
  },
  {
   "cell_type": "code",
   "execution_count": null,
   "id": "bf6757e6",
   "metadata": {},
   "outputs": [],
   "source": []
  },
  {
   "cell_type": "code",
   "execution_count": 116,
   "id": "0fc0c616",
   "metadata": {},
   "outputs": [],
   "source": []
  },
  {
   "cell_type": "code",
   "execution_count": null,
   "id": "b7e186f3",
   "metadata": {},
   "outputs": [],
   "source": []
  },
  {
   "cell_type": "code",
   "execution_count": null,
   "id": "b76a7690",
   "metadata": {},
   "outputs": [],
   "source": []
  },
  {
   "cell_type": "code",
   "execution_count": null,
   "id": "ae2fdadf",
   "metadata": {},
   "outputs": [],
   "source": [
    "\n"
   ]
  },
  {
   "cell_type": "code",
   "execution_count": null,
   "id": "c6cb1dca",
   "metadata": {},
   "outputs": [],
   "source": []
  },
  {
   "cell_type": "code",
   "execution_count": null,
   "id": "2e21d380",
   "metadata": {
    "scrolled": true
   },
   "outputs": [],
   "source": []
  },
  {
   "cell_type": "code",
   "execution_count": null,
   "id": "cafd4c28",
   "metadata": {},
   "outputs": [],
   "source": []
  },
  {
   "cell_type": "code",
   "execution_count": null,
   "id": "ebb2571e",
   "metadata": {},
   "outputs": [],
   "source": []
  },
  {
   "cell_type": "code",
   "execution_count": null,
   "id": "e6baac1f",
   "metadata": {},
   "outputs": [],
   "source": []
  },
  {
   "cell_type": "code",
   "execution_count": null,
   "id": "fd57aaa2",
   "metadata": {},
   "outputs": [],
   "source": []
  },
  {
   "cell_type": "code",
   "execution_count": null,
   "id": "fe8c017a",
   "metadata": {},
   "outputs": [],
   "source": []
  },
  {
   "cell_type": "code",
   "execution_count": null,
   "id": "ea6a4eef",
   "metadata": {},
   "outputs": [],
   "source": []
  },
  {
   "cell_type": "code",
   "execution_count": null,
   "id": "7bb325ec",
   "metadata": {},
   "outputs": [],
   "source": []
  },
  {
   "cell_type": "code",
   "execution_count": null,
   "id": "aff9043a",
   "metadata": {},
   "outputs": [],
   "source": []
  },
  {
   "cell_type": "code",
   "execution_count": null,
   "id": "d83fa927",
   "metadata": {},
   "outputs": [],
   "source": []
  }
 ],
 "metadata": {
  "kernelspec": {
   "display_name": "Python 3",
   "language": "python",
   "name": "python3"
  },
  "language_info": {
   "codemirror_mode": {
    "name": "ipython",
    "version": 3
   },
   "file_extension": ".py",
   "mimetype": "text/x-python",
   "name": "python",
   "nbconvert_exporter": "python",
   "pygments_lexer": "ipython3",
   "version": "3.8.8"
  }
 },
 "nbformat": 4,
 "nbformat_minor": 5
}
